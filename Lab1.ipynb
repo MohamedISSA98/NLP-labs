{
  "nbformat": 4,
  "nbformat_minor": 0,
  "metadata": {
    "colab": {
      "name": "fares-feki-and-mohamed-issa-TP1.ipynb",
      "provenance": [],
      "collapsed_sections": [
        "1296da34",
        "2c47f45c"
      ]
    },
    "kernelspec": {
      "display_name": "Python 3",
      "language": "python",
      "name": "python3"
    },
    "language_info": {
      "codemirror_mode": {
        "name": "ipython",
        "version": 3
      },
      "file_extension": ".py",
      "mimetype": "text/x-python",
      "name": "python",
      "nbconvert_exporter": "python",
      "pygments_lexer": "ipython3",
      "version": "3.7.10"
    }
  },
  "cells": [
    {
      "cell_type": "markdown",
      "metadata": {
        "id": "33996fbe"
      },
      "source": [
        "# TP : Sentiment analysis on IMDB movie reviews"
      ]
    },
    {
      "cell_type": "markdown",
      "metadata": {
        "id": "744dbe14"
      },
      "source": [
        "## Objectives:\n",
        "\n",
        "1. Use a simple way to represent textual data - Bag of words\n",
        "2. Test it with a simple model for a sentiment classification task - Naïve Bayesian\n",
        "3. Explore improvements to these simple representations\n",
        "4. Implement various methods to obtain dense representations (word embeddings) of the same data\n",
        "5. Test these new representations with a simple classification model"
      ]
    },
    {
      "cell_type": "markdown",
      "metadata": {
        "id": "97244b81"
      },
      "source": [
        "## Necessary dependancies\n",
        "\n",
        "We will need the following packages:\n",
        "- The Machine Learning API Scikit-learn : http://scikit-learn.org/stable/install.html\n",
        "- The Natural Language Toolkit : http://www.nltk.org/install.html\n",
        "\n",
        "Both are available with Anaconda: https://anaconda.org/anaconda/nltk and https://anaconda.org/anaconda/scikit-learn"
      ]
    },
    {
      "cell_type": "code",
      "metadata": {
        "id": "dceaa047"
      },
      "source": [
        "import os.path as op\n",
        "import re \n",
        "import numpy as np\n",
        "import matplotlib.pyplot as plt"
      ],
      "execution_count": null,
      "outputs": []
    },
    {
      "cell_type": "code",
      "metadata": {
        "colab": {
          "base_uri": "https://localhost:8080/"
        },
        "id": "U77-UO5AoGau",
        "outputId": "d94f2bbe-d789-459a-fbd4-240a3e687b98"
      },
      "source": [
        "# For those on google colab: you can download the files directly with this:\n",
        "import gdown\n",
        "gdown.download(\"http://ai.stanford.edu/~amaas/data/sentiment/aclImdb_v1.tar.gz\", output=\"aclImdb_v1.tar.gz\", quiet=False)\n",
        "!tar xzf /content/aclImdb_v1.tar.gz"
      ],
      "execution_count": null,
      "outputs": [
        {
          "name": "stderr",
          "output_type": "stream",
          "text": [
            "Downloading...\n",
            "From: http://ai.stanford.edu/~amaas/data/sentiment/aclImdb_v1.tar.gz\n",
            "To: /content/aclImdb_v1.tar.gz\n",
            "100%|██████████| 84.1M/84.1M [00:13<00:00, 6.40MB/s]\n"
          ]
        }
      ]
    },
    {
      "cell_type": "code",
      "metadata": {
        "colab": {
          "base_uri": "https://localhost:8080/"
        },
        "id": "ND-swUzIoUV5",
        "outputId": "da333a35-2215-4f3d-a2c5-e336b6f48ac3"
      },
      "source": [
        "!ls ../content/aclImdb "
      ],
      "execution_count": null,
      "outputs": [
        {
          "name": "stdout",
          "output_type": "stream",
          "text": [
            "imdbEr.txt  imdb.vocab\tREADME\ttest  train\n"
          ]
        }
      ]
    },
    {
      "cell_type": "markdown",
      "metadata": {
        "id": "b85a8351"
      },
      "source": [
        "## Loading data\n",
        "\n",
        "We retrieve the textual data in the variable *texts*.\n",
        "\n",
        "The labels are retrieved in the variable $y$ - it contains *len(texts)* of them: $0$ indicates that the corresponding review is negative while $1$ indicates that it is positive."
      ]
    },
    {
      "cell_type": "code",
      "metadata": {
        "colab": {
          "base_uri": "https://localhost:8080/",
          "height": 35
        },
        "id": "016c316a",
        "outputId": "fbccb0cd-52ae-491e-cc50-26d8419cdb2d"
      },
      "source": [
        "from glob import glob\n",
        "# We get the files from the path: ./aclImdb/train/neg for negative reviews, and ./aclImdb/train/pos for positive reviews\n",
        "train_filenames_neg = sorted(glob(op.join('..','content','aclImdb', 'train', 'neg', '*.txt')))\n",
        "train_filenames_pos = sorted(glob(op.join('..','content','aclImdb', 'train', 'pos', '*.txt')))\n",
        "\n",
        "\"\"\"\n",
        "test_filenames_neg = sorted(glob(op.join('..','content','aclImdb', 'test', 'neg', '*.txt')))\n",
        "test_filenames_pos = sorted(glob(op.join('..','content','aclImdb','aclImdb', 'test', 'pos', '*.txt')))\n",
        "\"\"\"\n",
        "\n",
        "# Each files contains a review that consists in one line of text: we put this string in two lists, that we concatenate\n",
        "train_texts_neg = [open(f, encoding=\"utf8\").read() for f in train_filenames_neg]\n",
        "train_texts_pos = [open(f, encoding=\"utf8\").read() for f in train_filenames_pos]\n",
        "train_texts = train_texts_neg + train_texts_pos\n",
        "\n",
        "\"\"\"\n",
        "test_texts_neg = [open(f, encoding=\"utf8\").read() for f in test_filenames_neg]\n",
        "test_texts_pos = [open(f, encoding=\"utf8\").read() for f in test_filenames_pos]\n",
        "test_texts = test_texts_neg + test_texts_pos\n",
        "\"\"\"\n",
        "\n",
        "# The first half of the elements of the list are string of negative reviews, and the second half positive ones\n",
        "# We create the labels, as an array of [1,len(texts)], filled with 1, and change the first half to 0\n",
        "train_labels = np.ones(len(train_texts), dtype=int)\n",
        "train_labels[:len(train_texts_neg)] = 0.\n",
        "\n",
        "\"\"\"\n",
        "test_labels = np.ones(len(test_texts), dtype=np.int)\n",
        "test_labels[:len(test_texts_neg)] = 0.\n",
        "\"\"\""
      ],
      "execution_count": null,
      "outputs": [
        {
          "data": {
            "application/vnd.google.colaboratory.intrinsic+json": {
              "type": "string"
            },
            "text/plain": [
              "'\\ntest_labels = np.ones(len(test_texts), dtype=np.int)\\ntest_labels[:len(test_texts_neg)] = 0.\\n'"
            ]
          },
          "execution_count": 39,
          "metadata": {},
          "output_type": "execute_result"
        }
      ]
    },
    {
      "cell_type": "markdown",
      "metadata": {
        "id": "973119f0"
      },
      "source": [
        "Example of one document:"
      ]
    },
    {
      "cell_type": "code",
      "metadata": {
        "colab": {
          "base_uri": "https://localhost:8080/",
          "height": 71
        },
        "id": "f13c9fb7",
        "outputId": "d9418466-7689-43de-d84c-326989d55da9"
      },
      "source": [
        "open(\"../content/aclImdb/train/neg/0_3.txt\", encoding=\"utf8\").read()"
      ],
      "execution_count": null,
      "outputs": [
        {
          "data": {
            "application/vnd.google.colaboratory.intrinsic+json": {
              "type": "string"
            },
            "text/plain": [
              "\"Story of a man who has unnatural feelings for a pig. Starts out with a opening scene that is a terrific example of absurd comedy. A formal orchestra audience is turned into an insane, violent mob by the crazy chantings of it's singers. Unfortunately it stays absurd the WHOLE time with no general narrative eventually making it just too off putting. Even those from the era should be turned off. The cryptic dialogue would make Shakespeare seem easy to a third grader. On a technical level it's better than you might think with some good cinematography by future great Vilmos Zsigmond. Future stars Sally Kirkland and Frederic Forrest can be seen briefly.\""
            ]
          },
          "execution_count": 40,
          "metadata": {},
          "output_type": "execute_result"
        }
      ]
    },
    {
      "cell_type": "markdown",
      "metadata": {
        "id": "c567d46c"
      },
      "source": [
        "**In this lab, the impact of our choice of representations upon our results will also depend on the quantity of data we use:** try to see how changing the parameter ```k``` affects our results !"
      ]
    },
    {
      "cell_type": "code",
      "metadata": {
        "colab": {
          "base_uri": "https://localhost:8080/"
        },
        "id": "a5c15f4d",
        "outputId": "9b458cff-e6df-4f7e-a245-3e2dfac85e31"
      },
      "source": [
        "# This number of documents may be high for most computers: we can select a fraction of them (here, one in k)\n",
        "# Use an even number to keep the same number of positive and negative reviews\n",
        "k = 100\n",
        "train_texts_reduced = train_texts[0::k]\n",
        "train_labels_reduced = train_labels[0::k]\n",
        "\n",
        "print('Number of documents:', len(train_texts_reduced))"
      ],
      "execution_count": null,
      "outputs": [
        {
          "name": "stdout",
          "output_type": "stream",
          "text": [
            "Number of documents: 250\n"
          ]
        }
      ]
    },
    {
      "cell_type": "markdown",
      "metadata": {
        "id": "fab205df"
      },
      "source": [
        "We can use a function from sklearn, ```train_test_split```, to separate data into training and validation sets:"
      ]
    },
    {
      "cell_type": "code",
      "metadata": {
        "id": "355fd2a5"
      },
      "source": [
        "from sklearn.model_selection import train_test_split"
      ],
      "execution_count": null,
      "outputs": []
    },
    {
      "cell_type": "code",
      "metadata": {
        "id": "a9257fd2"
      },
      "source": [
        "train_texts_splt, val_texts, train_labels_splt, val_labels = train_test_split(train_texts_reduced, train_labels_reduced, test_size=.2,random_state=1)"
      ],
      "execution_count": null,
      "outputs": []
    },
    {
      "cell_type": "markdown",
      "metadata": {
        "id": "69f8a35b"
      },
      "source": [
        "## Adapted representation of documents\n",
        "\n",
        "Our statistical model, like most models applied to textual data, uses counts of word occurrences in a document. Thus, a very convenient way to represent a document is to use a Bag-of-Words (BoW) vector, containing the counts of each word (regardless of their order of occurrence) in the document. \n",
        "\n",
        "If we consider the set of all the words appearing in our $T$ training documents, which we note $V$ (Vocabulary), we can create **an index**, which is a bijection associating to each $w$ word an integer, which will be its position in $V$. \n",
        "\n",
        "Thus, for a document extracted from a set of documents containing $|V|$ different words, a BoW representation will be a vector of size $|V|$, whose value at the index of a word $w$ will be its number of occurrences in the document. \n",
        "\n",
        "We can use the **CountVectorizer** class from scikit-learn to obtain these representations:"
      ]
    },
    {
      "cell_type": "code",
      "metadata": {
        "id": "33f48d41"
      },
      "source": [
        "from sklearn.feature_extraction.text import CountVectorizer"
      ],
      "execution_count": null,
      "outputs": []
    },
    {
      "cell_type": "code",
      "metadata": {
        "colab": {
          "base_uri": "https://localhost:8080/"
        },
        "id": "f4ad8a7e",
        "outputId": "324fe757-6a7c-49cd-c1cd-a4a2b222e374"
      },
      "source": [
        "corpus = ['I walked down down the boulevard',\n",
        "          'I walked down the avenue',\n",
        "          'I ran down the boulevard',\n",
        "          'I walk down the city',\n",
        "          'I walk down the the avenue']\n",
        "vectorizer = CountVectorizer()\n",
        "\n",
        "Bow = vectorizer.fit_transform(corpus)\n",
        "\n",
        "print(vectorizer.get_feature_names())\n",
        "Bow.toarray()"
      ],
      "execution_count": null,
      "outputs": [
        {
          "name": "stdout",
          "output_type": "stream",
          "text": [
            "['avenue', 'boulevard', 'city', 'down', 'ran', 'the', 'walk', 'walked']\n"
          ]
        },
        {
          "data": {
            "text/plain": [
              "array([[0, 1, 0, 2, 0, 1, 0, 1],\n",
              "       [1, 0, 0, 1, 0, 1, 0, 1],\n",
              "       [0, 1, 0, 1, 1, 1, 0, 0],\n",
              "       [0, 0, 1, 1, 0, 1, 1, 0],\n",
              "       [1, 0, 0, 1, 0, 2, 1, 0]])"
            ]
          },
          "execution_count": 45,
          "metadata": {},
          "output_type": "execute_result"
        }
      ]
    },
    {
      "cell_type": "markdown",
      "metadata": {
        "id": "5fb6027b"
      },
      "source": [
        "Careful: check the memory that the representations are going to use (given the way they are build). What ```CountVectorizer``` argument allows to avoid the issue ? "
      ]
    },
    {
      "cell_type": "markdown",
      "metadata": {
        "id": "_Tnb4iBxmEZX"
      },
      "source": [
        "**Answer**: we can use the max_features argument to only keep the most frequent words from the corpus in our final vocabulary."
      ]
    },
    {
      "cell_type": "code",
      "metadata": {
        "colab": {
          "base_uri": "https://localhost:8080/"
        },
        "id": "6b275a5d",
        "outputId": "bcbc31c2-139b-4f84-ce4d-70ed2b7452c6"
      },
      "source": [
        "# Create and fit the vectorizer to the training data\n",
        "vectorizer = CountVectorizer()\n",
        "train_bow = vectorizer.fit_transform(train_texts_splt)\n",
        "print(len(vectorizer.get_feature_names()))"
      ],
      "execution_count": null,
      "outputs": [
        {
          "name": "stdout",
          "output_type": "stream",
          "text": [
            "6862\n"
          ]
        }
      ]
    },
    {
      "cell_type": "code",
      "metadata": {
        "colab": {
          "base_uri": "https://localhost:8080/"
        },
        "id": "6d414db6",
        "outputId": "3f93b16f-082a-4021-8d86-8b63027fe366"
      },
      "source": [
        "print(train_bow.shape)"
      ],
      "execution_count": null,
      "outputs": [
        {
          "name": "stdout",
          "output_type": "stream",
          "text": [
            "(200, 6862)\n"
          ]
        }
      ]
    },
    {
      "cell_type": "code",
      "metadata": {
        "colab": {
          "base_uri": "https://localhost:8080/"
        },
        "id": "30fc14d2",
        "outputId": "fdae8397-de55-4f7d-debc-3cac457a4ffb"
      },
      "source": [
        "# Transform the validation data\n",
        "val_bow=vectorizer.transform(val_texts)\n",
        "print(val_bow.shape)"
      ],
      "execution_count": null,
      "outputs": [
        {
          "name": "stdout",
          "output_type": "stream",
          "text": [
            "(50, 6862)\n"
          ]
        }
      ]
    },
    {
      "cell_type": "markdown",
      "metadata": {
        "id": "9414783a"
      },
      "source": [
        "We are going to use the scikit-learn ```MultinomialNB```, an implementation of the Naive Bayesian model. Here, what is the naïve hypothesis ? "
      ]
    },
    {
      "cell_type": "markdown",
      "metadata": {
        "id": "Zmge9cuemEZZ"
      },
      "source": [
        "**Answer**: The naïve hypothesis assumes a strong independence between the features(= words in our case). It implies that for a given class the probability of a doccument  is the product of the probabilities of its words."
      ]
    },
    {
      "cell_type": "code",
      "metadata": {
        "id": "87ff654a"
      },
      "source": [
        "from sklearn.naive_bayes import MultinomialNB"
      ],
      "execution_count": null,
      "outputs": []
    },
    {
      "cell_type": "code",
      "metadata": {
        "colab": {
          "base_uri": "https://localhost:8080/"
        },
        "id": "7227dd08",
        "outputId": "cf9a8d19-7c17-4f35-a309-12677beb4783"
      },
      "source": [
        "# Fit the model on the training data\n",
        "model=MultinomialNB()\n",
        "model.fit(train_bow,train_labels_splt)"
      ],
      "execution_count": null,
      "outputs": [
        {
          "data": {
            "text/plain": [
              "MultinomialNB(alpha=1.0, class_prior=None, fit_prior=True)"
            ]
          },
          "execution_count": 50,
          "metadata": {},
          "output_type": "execute_result"
        }
      ]
    },
    {
      "cell_type": "code",
      "metadata": {
        "id": "3242cc7b"
      },
      "source": [
        "from sklearn.metrics import confusion_matrix, ConfusionMatrixDisplay, classification_report"
      ],
      "execution_count": null,
      "outputs": []
    },
    {
      "cell_type": "code",
      "metadata": {
        "colab": {
          "base_uri": "https://localhost:8080/",
          "height": 278
        },
        "id": "5572e83b",
        "outputId": "3042e703-b6eb-4a39-9b4c-89d5c0153324"
      },
      "source": [
        "# Test it on the validation data \n",
        "val_hat=model.predict(val_bow)\n",
        "conf_matr=ConfusionMatrixDisplay(confusion_matrix(val_labels,val_hat),display_labels=model.classes_)\n",
        "conf_matr.plot()\n",
        "plt.show()"
      ],
      "execution_count": null,
      "outputs": [
        {
          "data": {
            "image/png": "[encoded data removed]",
            "text/plain": [
              "<Figure size 432x288 with 2 Axes>"
            ]
          },
          "metadata": {},
          "output_type": "display_data"
        }
      ]
    },
    {
      "cell_type": "markdown",
      "metadata": {
        "id": "d8bb3b1d"
      },
      "source": [
        "Let us look at the *features* built by the ```vectorizer```. How can we improve them ? "
      ]
    },
    {
      "cell_type": "code",
      "metadata": {
        "colab": {
          "base_uri": "https://localhost:8080/"
        },
        "id": "effcf9dd",
        "outputId": "7e00f78e-13b8-44ea-97c5-eac39963a55c"
      },
      "source": [
        "print(vectorizer.get_feature_names()[:150])"
      ],
      "execution_count": null,
      "outputs": [
        {
          "name": "stdout",
          "output_type": "stream",
          "text": [
            "['000', '01', '10', '100', '11', '12', '13', '14', '15', '16', '17', '180', '1840', '1840s', '19', '1920', '1930s', '1934', '1940s', '1944', '1950', '1953', '1954', '1959', '1960', '1960s', '1968', '1969', '1970', '1970s', '1971', '1973', '1977', '1978', '1979', '1980', '1982', '1983', '1984', '1985', '1989', '1992', '1993', '1994', '1995', '1996', '1997', '1998', '1999', '20', '2000', '2002', '2004', '2006', '2008', '22', '25', '250', '269', '28', '29', '2nd', '30', '300', '30s', '35', '35mm', '36', '37', '3d', '3rd', '40', '44', '45', '46', '4m', '4th', '4w', '50', '5000', '50s', '5th', '60', '65', '70', '70mm', '70s', '70th', '74', '80', '80s', '82', '90', '94', '99', 'aaaand', 'abandoned', 'abc', 'ability', 'able', 'ably', 'abomination', 'abounds', 'about', 'above', 'absence', 'absent', 'absolute', 'absolutely', 'absurd', 'abusive', 'abysmal', 'academic', 'academy', 'accent', 'accents', 'accept', 'acceptable', 'acceptance', 'accepted', 'accepts', 'accessed', 'accessible', 'accident', 'accidentally', 'accidents', 'accolades', 'accompanied', 'accompanying', 'according', 'account', 'accounting', 'accurate', 'accurately', 'accusations', 'acedemy', 'achieve', 'achilles', 'acquire', 'acquits', 'across', 'act', 'acted', 'acting', 'action', 'actions', 'active', 'activities', 'actor', 'actors']\n"
          ]
        }
      ]
    },
    {
      "cell_type": "markdown",
      "metadata": {
        "id": "L_TLju0zmEZb"
      },
      "source": [
        "**Answer**: We can perform some data cleaning and preprocessing like encoding the numbers, removing stopwords, stemming/lemmatization. We can also use the min_df and max_df arguments to only keep words within a frequency range."
      ]
    },
    {
      "cell_type": "markdown",
      "metadata": {
        "id": "fdf1f023"
      },
      "source": [
        "### Improving representations\n",
        "\n",
        "Mainly, the arguments of the class ```vectorizer``` will allow us to easily change the way our textual data is represented. Let us try to work on our *Bag-of-words* representations:\n",
        "   \n",
        "#### Do not take into account words that are too frequent:\n",
        "\n",
        "You can use the argument ```max_df=1.0``` to change the amount of words taken into account. \n",
        "\n",
        "#### Try different granularities:\n",
        "\n",
        "Rather than just counting words, we can count sequences of words - limited in size, of course. \n",
        "We call a sequence of $n$ words a $n$-gram: let's try using 2 and 3-grams (bi- and trigrams).\n",
        "We can also try to use character sequences instead of word sequences.\n",
        "\n",
        "We will be interested in the options ```analyze='word'``` and ```ngram_range=(1, 2)``` which we'll change to alter the granularity. \n",
        "\n",
        "**Again: using these ways of getting more features from our text will probably have more impact if we do not have much training data to begin with !**\n",
        "\n",
        "To accelerate experiments, use the ```Pipeline``` tool from scikit-learn. "
      ]
    },
    {
      "cell_type": "code",
      "metadata": {
        "id": "bb30f4d4"
      },
      "source": [
        "from sklearn.pipeline import Pipeline"
      ],
      "execution_count": null,
      "outputs": []
    },
    {
      "cell_type": "code",
      "metadata": {
        "colab": {
          "base_uri": "https://localhost:8080/",
          "height": 438
        },
        "id": "9341f5d8",
        "outputId": "478b1db0-f879-4640-a93e-98e1cad0cb43"
      },
      "source": [
        "pipeline_base = Pipeline([\n",
        "    ('vect', CountVectorizer(max_features=30000, analyzer='word', stop_words=None)),\n",
        "    ('clf', MultinomialNB()),\n",
        "])\n",
        "# Fit and test the pipeline\n",
        "pipeline_base.fit(train_texts_splt,train_labels_splt)\n",
        "y_pred = pipeline_base.predict(val_texts)\n",
        "cm = confusion_matrix(val_labels, y_pred)\n",
        "disp = ConfusionMatrixDisplay(confusion_matrix = cm,display_labels=model.classes_)\n",
        "disp.plot()\n",
        "plt.show()\n",
        "print(classification_report(val_labels, y_pred, target_names=['negative','positive']))"
      ],
      "execution_count": null,
      "outputs": [
        {
          "data": {
            "image/png": "[encoded data removed]",
            "text/plain": [
              "<Figure size 432x288 with 2 Axes>"
            ]
          },
          "metadata": {},
          "output_type": "display_data"
        },
        {
          "name": "stdout",
          "output_type": "stream",
          "text": [
            "              precision    recall  f1-score   support\n",
            "\n",
            "    negative       0.86      0.86      0.86        28\n",
            "    positive       0.82      0.82      0.82        22\n",
            "\n",
            "    accuracy                           0.84        50\n",
            "   macro avg       0.84      0.84      0.84        50\n",
            "weighted avg       0.84      0.84      0.84        50\n",
            "\n"
          ]
        }
      ]
    },
    {
      "cell_type": "code",
      "metadata": {
        "colab": {
          "base_uri": "https://localhost:8080/",
          "height": 443
        },
        "id": "243600d2",
        "outputId": "dae1179e-37c4-48ce-c0b4-412d7206b880"
      },
      "source": [
        "# Fit and test a pipeline with bigrams\n",
        "pipeline_base.set_params(vect__ngram_range=(1, 2))\n",
        "pipeline_base.fit(train_texts_splt,train_labels_splt)\n",
        "y_pred = pipeline_base.predict(val_texts)\n",
        "cm = confusion_matrix(val_labels, y_pred)\n",
        "disp = ConfusionMatrixDisplay(confusion_matrix = cm,display_labels=model.classes_)\n",
        "disp.plot()\n",
        "plt.show()\n",
        "print(classification_report(val_labels, y_pred, target_names=['negative','positive']))"
      ],
      "execution_count": null,
      "outputs": [
        {
          "data": {
            "image/png": "[encoded data removed]",
            "text/plain": [
              "<Figure size 432x288 with 2 Axes>"
            ]
          },
          "metadata": {},
          "output_type": "display_data"
        },
        {
          "name": "stdout",
          "output_type": "stream",
          "text": [
            "              precision    recall  f1-score   support\n",
            "\n",
            "    negative       0.81      0.79      0.80        28\n",
            "    positive       0.74      0.77      0.76        22\n",
            "\n",
            "    accuracy                           0.78        50\n",
            "   macro avg       0.78      0.78      0.78        50\n",
            "weighted avg       0.78      0.78      0.78        50\n",
            "\n"
          ]
        }
      ]
    },
    {
      "cell_type": "code",
      "metadata": {
        "colab": {
          "base_uri": "https://localhost:8080/",
          "height": 443
        },
        "id": "d5ab6231",
        "outputId": "cd335063-27df-4bdb-d08d-3bee8cb97488"
      },
      "source": [
        "# ... trigrams\n",
        "pipeline_base.set_params(vect__ngram_range=(1, 3))\n",
        "pipeline_base.fit(train_texts_splt,train_labels_splt)\n",
        "y_pred = pipeline_base.predict(val_texts)\n",
        "cm = confusion_matrix(val_labels, y_pred)\n",
        "disp = ConfusionMatrixDisplay(confusion_matrix = cm,display_labels=model.classes_)\n",
        "disp.plot()\n",
        "plt.show()\n",
        "print(classification_report(val_labels, y_pred, target_names=['negative','positive']))"
      ],
      "execution_count": null,
      "outputs": [
        {
          "data": {
            "image/png": "[encoded data removed]",
            "text/plain": [
              "<Figure size 432x288 with 2 Axes>"
            ]
          },
          "metadata": {},
          "output_type": "display_data"
        },
        {
          "name": "stdout",
          "output_type": "stream",
          "text": [
            "              precision    recall  f1-score   support\n",
            "\n",
            "    negative       0.81      0.79      0.80        28\n",
            "    positive       0.74      0.77      0.76        22\n",
            "\n",
            "    accuracy                           0.78        50\n",
            "   macro avg       0.78      0.78      0.78        50\n",
            "weighted avg       0.78      0.78      0.78        50\n",
            "\n"
          ]
        }
      ]
    },
    {
      "cell_type": "code",
      "metadata": {
        "colab": {
          "base_uri": "https://localhost:8080/",
          "height": 443
        },
        "id": "b2fbaf31",
        "outputId": "9e84ba88-f070-497d-85a5-6d6cbb38db88"
      },
      "source": [
        "# ... and characters\n",
        "pipeline_base.set_params(vect__analyzer='char', vect__ngram_range=(1,1))\n",
        "pipeline_base.fit(train_texts_splt,train_labels_splt)\n",
        "y_pred = pipeline_base.predict(val_texts)\n",
        "cm = confusion_matrix(val_labels, y_pred)\n",
        "disp = ConfusionMatrixDisplay(confusion_matrix = cm,display_labels=model.classes_)\n",
        "disp.plot()\n",
        "plt.show()\n",
        "print(classification_report(val_labels, y_pred, target_names=['negative','positive']))"
      ],
      "execution_count": null,
      "outputs": [
        {
          "data": {
            "image/png": "[encoded data removed]",
            "text/plain": [
              "<Figure size 432x288 with 2 Axes>"
            ]
          },
          "metadata": {},
          "output_type": "display_data"
        },
        {
          "name": "stdout",
          "output_type": "stream",
          "text": [
            "              precision    recall  f1-score   support\n",
            "\n",
            "    negative       0.61      0.50      0.55        28\n",
            "    positive       0.48      0.59      0.53        22\n",
            "\n",
            "    accuracy                           0.54        50\n",
            "   macro avg       0.55      0.55      0.54        50\n",
            "weighted avg       0.55      0.54      0.54        50\n",
            "\n"
          ]
        }
      ]
    },
    {
      "cell_type": "markdown",
      "metadata": {
        "id": "0639e446"
      },
      "source": [
        "#### Tf-idf:\n",
        "\n",
        "This is the product of the frequency of the term (TF) and its inverse frequency in documents (IDF).\n",
        "This method is usually used to measure the importance of a term $i$ in a document $j$ relative to the rest of the corpus, from a matrix of occurrences $ words \\times documents$. Thus, for a matrix $\\mathbf{T}$ of $|V|$ terms and $D$ documents:\n",
        "$$\\text{TF}(T, w, d) = \\frac{T_{w,d}}{\\sum_{w'=1}^{|V|} T_{w',d}} $$\n",
        "\n",
        "$$\\text{IDF}(T, w) = \\log\\left(\\frac{D}{|\\{d : T_{w,d} > 0\\}|}\\right)$$\n",
        "\n",
        "$$\\text{TF-IDF}(T, w, d) = \\text{TF}(X, w, d) \\cdot \\text{IDF}(T, w)$$\n",
        "\n",
        "It can be adapted to our case by considering that the context of the second word is the document. However, TF-IDF is generally better suited to low-density matrices, since it will penalize terms that appear in a large part of the documents. "
      ]
    },
    {
      "cell_type": "code",
      "metadata": {
        "id": "ab489e96"
      },
      "source": [
        "from sklearn.feature_extraction.text import TfidfTransformer"
      ],
      "execution_count": null,
      "outputs": []
    },
    {
      "cell_type": "code",
      "metadata": {
        "colab": {
          "base_uri": "https://localhost:8080/",
          "height": 438
        },
        "id": "cc6ef971",
        "outputId": "0b28f17e-1fdd-47d2-e982-a838973f1d99"
      },
      "source": [
        "# Fit and test a pipeline with tf-idf\n",
        "pipeline_tfidf = Pipeline([\n",
        "    ('vect', CountVectorizer(max_features=30000, analyzer='word', stop_words=None)),\n",
        "    ('tfidf', TfidfTransformer()),\n",
        "    ('clf', MultinomialNB()),\n",
        "])\n",
        "pipeline_tfidf.fit(train_texts_splt,train_labels_splt)\n",
        "y_pred = pipeline_tfidf.predict(val_texts)\n",
        "cm = confusion_matrix(val_labels, y_pred)\n",
        "disp = ConfusionMatrixDisplay(confusion_matrix = cm,display_labels=model.classes_)\n",
        "disp.plot()\n",
        "plt.show()\n",
        "print(classification_report(val_labels, y_pred, target_names=['negative','positive']))"
      ],
      "execution_count": null,
      "outputs": [
        {
          "data": {
            "image/png": "[encoded data removed]",
            "text/plain": [
              "<Figure size 432x288 with 2 Axes>"
            ]
          },
          "metadata": {},
          "output_type": "display_data"
        },
        {
          "name": "stdout",
          "output_type": "stream",
          "text": [
            "              precision    recall  f1-score   support\n",
            "\n",
            "    negative       0.91      0.75      0.82        28\n",
            "    positive       0.74      0.91      0.82        22\n",
            "\n",
            "    accuracy                           0.82        50\n",
            "   macro avg       0.83      0.83      0.82        50\n",
            "weighted avg       0.84      0.82      0.82        50\n",
            "\n"
          ]
        }
      ]
    },
    {
      "cell_type": "markdown",
      "metadata": {
        "id": "1296da34"
      },
      "source": [
        "### Pre-processing tools: NLTK\n",
        "\n",
        "We are now going to pre-process our textual data in order to simplify the model's task. **Note that this still will only be useful if we do not have a lot of training data to begin with !**\n",
        "\n",
        "**Important:** Until now, we obtained representations with ```vectorizer``` applied on the full document. The class divided the string into words itself ! Now, we'll need to do the **tokenization** ourselves in order to apply pre-processing to words. The simplest way to do this is to divide the string following blank spaces, with:\n",
        "```text.split()```. If we need something more elaborate, we can use a tokenizer from NLTK, ```word_tokenize```."
      ]
    },
    {
      "cell_type": "markdown",
      "metadata": {
        "id": "9da06d56"
      },
      "source": [
        "### Stemming \n",
        "\n",
        "Allows to go back to the root of a word: you can group different words around the same root, which facilitates generalization. Use:\n",
        "```from nltk import SnowballStemmer```"
      ]
    },
    {
      "cell_type": "code",
      "metadata": {
        "id": "40733704"
      },
      "source": [
        "from nltk import SnowballStemmer\n",
        "stemmer = SnowballStemmer(\"english\")"
      ],
      "execution_count": null,
      "outputs": []
    },
    {
      "cell_type": "markdown",
      "metadata": {
        "id": "fa6cd3da"
      },
      "source": [
        "**Example:**"
      ]
    },
    {
      "cell_type": "code",
      "metadata": {
        "colab": {
          "base_uri": "https://localhost:8080/"
        },
        "id": "8f283ccb",
        "outputId": "30504f94-422f-4665-e167-179a17276484"
      },
      "source": [
        "words = ['singers', 'cat', 'generalization', 'philosophy', 'psychology', 'philosopher']\n",
        "for word in words:\n",
        "    print('word : %s ; stemmed : %s' %(word, stemmer.stem(word)))#.decode('utf-8'))))"
      ],
      "execution_count": null,
      "outputs": [
        {
          "name": "stdout",
          "output_type": "stream",
          "text": [
            "word : singers ; stemmed : singer\n",
            "word : cat ; stemmed : cat\n",
            "word : generalization ; stemmed : general\n",
            "word : philosophy ; stemmed : philosophi\n",
            "word : psychology ; stemmed : psycholog\n",
            "word : philosopher ; stemmed : philosoph\n"
          ]
        }
      ]
    },
    {
      "cell_type": "markdown",
      "metadata": {
        "id": "cec4ee08"
      },
      "source": [
        "**Data transformation:**"
      ]
    },
    {
      "cell_type": "code",
      "metadata": {
        "id": "89275ff9"
      },
      "source": [
        "def stem(X): \n",
        "    #\n",
        "    # To complete \n",
        "    #\n",
        "    X_stem=[]\n",
        "    for sentence in X:\n",
        "        aux=sentence.split()\n",
        "        for i in range(len(aux)):\n",
        "            aux[i]=stemmer.stem(aux[i])\n",
        "        X_stem.append(' '.join(aux))\n",
        "    return X_stem"
      ],
      "execution_count": null,
      "outputs": []
    },
    {
      "cell_type": "code",
      "metadata": {
        "colab": {
          "base_uri": "https://localhost:8080/"
        },
        "id": "Z503wYTpmEZg",
        "outputId": "7b89dde0-e094-4934-9cc1-94a55e5ed688"
      },
      "source": [
        "stem(corpus)"
      ],
      "execution_count": null,
      "outputs": [
        {
          "data": {
            "text/plain": [
              "['i walk down down the boulevard',\n",
              " 'i walk down the avenu',\n",
              " 'i ran down the boulevard',\n",
              " 'i walk down the citi',\n",
              " 'i walk down the the avenu']"
            ]
          },
          "execution_count": 64,
          "metadata": {},
          "output_type": "execute_result"
        }
      ]
    },
    {
      "cell_type": "code",
      "metadata": {
        "colab": {
          "base_uri": "https://localhost:8080/",
          "height": 443
        },
        "id": "6be8fe7a",
        "outputId": "f0d41886-1b05-41f1-9024-6b3132eb187a"
      },
      "source": [
        "# Transform training and validation data and test it with a basic pipeline\n",
        "pipeline_base = Pipeline([\n",
        "    ('vect', CountVectorizer(max_features=30000, analyzer='word', stop_words=None)),\n",
        "    ('clf', MultinomialNB()),\n",
        "])\n",
        "train_texts_stem = stem(train_texts_splt)\n",
        "val_texts_stem =  stem(val_texts)\n",
        "# Fit and test the pipeline\n",
        "pipeline_base.fit(train_texts_stem,train_labels_splt)\n",
        "y_pred = pipeline_base.predict(val_texts_stem)\n",
        "cm = confusion_matrix(val_labels, y_pred)\n",
        "disp = ConfusionMatrixDisplay(confusion_matrix = cm,display_labels=model.classes_)\n",
        "disp.plot()\n",
        "plt.show()\n",
        "print(classification_report(val_labels, y_pred, target_names=['negative','positive']))"
      ],
      "execution_count": null,
      "outputs": [
        {
          "data": {
            "image/png": "[encoded data removed]",
            "text/plain": [
              "<Figure size 432x288 with 2 Axes>"
            ]
          },
          "metadata": {},
          "output_type": "display_data"
        },
        {
          "name": "stdout",
          "output_type": "stream",
          "text": [
            "              precision    recall  f1-score   support\n",
            "\n",
            "    negative       0.83      0.89      0.86        28\n",
            "    positive       0.85      0.77      0.81        22\n",
            "\n",
            "    accuracy                           0.84        50\n",
            "   macro avg       0.84      0.83      0.84        50\n",
            "weighted avg       0.84      0.84      0.84        50\n",
            "\n"
          ]
        }
      ]
    },
    {
      "cell_type": "markdown",
      "metadata": {
        "id": "adc09774"
      },
      "source": [
        "### Part of speech tags\n",
        "\n",
        "To generalize, we can also use the Part of Speech (POS) of the words, which will allow us to filter out information that is potentially not useful to the model. We will retrieve the POS of the words using the functions:\n",
        "```from nltk import pos_tag, word_tokenize```"
      ]
    },
    {
      "cell_type": "code",
      "metadata": {
        "id": "b4a83c3b"
      },
      "source": [
        "import nltk\n",
        "from nltk import pos_tag, word_tokenize"
      ],
      "execution_count": null,
      "outputs": []
    },
    {
      "cell_type": "markdown",
      "metadata": {
        "id": "14850d77"
      },
      "source": [
        "**Example:**"
      ]
    },
    {
      "cell_type": "code",
      "metadata": {
        "colab": {
          "base_uri": "https://localhost:8080/"
        },
        "id": "080245ae",
        "outputId": "68ab52cd-a40a-48c7-c871-ad82f12ce8e1"
      },
      "source": [
        "import nltk\n",
        "nltk.download('punkt')\n",
        "nltk.download('averaged_perceptron_tagger')\n",
        "\n",
        "pos_tag(word_tokenize(('I am Sam')))"
      ],
      "execution_count": null,
      "outputs": [
        {
          "name": "stdout",
          "output_type": "stream",
          "text": [
            "[nltk_data] Downloading package punkt to /root/nltk_data...\n",
            "[nltk_data]   Unzipping tokenizers/punkt.zip.\n",
            "[nltk_data] Downloading package averaged_perceptron_tagger to\n",
            "[nltk_data]     /root/nltk_data...\n",
            "[nltk_data]   Unzipping taggers/averaged_perceptron_tagger.zip.\n"
          ]
        },
        {
          "data": {
            "text/plain": [
              "[('I', 'PRP'), ('am', 'VBP'), ('Sam', 'NNP')]"
            ]
          },
          "execution_count": 67,
          "metadata": {},
          "output_type": "execute_result"
        }
      ]
    },
    {
      "cell_type": "markdown",
      "metadata": {
        "id": "96f0cc51"
      },
      "source": [
        "**Data transformation:** only keep nouns, verbs, adverbs, and adjectives (```['NN', 'VB', 'ADJ', 'RB']```) for our model."
      ]
    },
    {
      "cell_type": "code",
      "metadata": {
        "id": "104a8e2f"
      },
      "source": [
        "def pos_tag_filter(X, good_tags=['NN', 'VB', 'JJ', 'RB']):\n",
        "    #\n",
        "    # To complete \n",
        "    #\n",
        "    X_pos=[]\n",
        "    for sentence in X:\n",
        "        P=pos_tag(word_tokenize(sentence))\n",
        "        R=[]\n",
        "        for t in P:\n",
        "            T=[t[1].startswith(e) for e in good_tags]\n",
        "            if any(T): # if we find  a good tag\n",
        "                R.append(t[0])\n",
        "        X_pos.append(' '.join(R))\n",
        "    return X_pos"
      ],
      "execution_count": null,
      "outputs": []
    },
    {
      "cell_type": "code",
      "metadata": {
        "colab": {
          "base_uri": "https://localhost:8080/"
        },
        "id": "HGI5Ra6nmEZh",
        "outputId": "e1fce939-78c8-4ab4-bb31-6e96ed579028"
      },
      "source": [
        "pos_tag_filter(corpus)"
      ],
      "execution_count": null,
      "outputs": [
        {
          "data": {
            "text/plain": [
              "['walked down down boulevard',\n",
              " 'walked avenue',\n",
              " 'ran down boulevard',\n",
              " 'walk city',\n",
              " 'walk avenue']"
            ]
          },
          "execution_count": 69,
          "metadata": {},
          "output_type": "execute_result"
        }
      ]
    },
    {
      "cell_type": "code",
      "metadata": {
        "colab": {
          "base_uri": "https://localhost:8080/",
          "height": 438
        },
        "id": "d218ec3c",
        "outputId": "9595226b-a67d-460e-c7f3-19e504bbc1f2"
      },
      "source": [
        "# Transform training and validation data and test it with a basic pipeline\n",
        "pipeline_base = Pipeline([\n",
        "    ('vect', CountVectorizer(max_features=30000, analyzer='word', stop_words=None)),\n",
        "    ('clf', MultinomialNB()),\n",
        "])\n",
        "train_texts_tag_filter = pos_tag_filter(train_texts_splt)\n",
        "val_texts_tag_filter =  pos_tag_filter(val_texts)\n",
        "# Fit and test the pipeline\n",
        "pipeline_base.fit(train_texts_tag_filter,train_labels_splt)\n",
        "y_pred = pipeline_base.predict(val_texts_tag_filter)\n",
        "cm = confusion_matrix(val_labels, y_pred)\n",
        "disp = ConfusionMatrixDisplay(confusion_matrix = cm,display_labels=model.classes_)\n",
        "disp.plot()\n",
        "plt.show()\n",
        "print(classification_report(val_labels, y_pred, target_names=['negative','positive']))"
      ],
      "execution_count": null,
      "outputs": [
        {
          "data": {
            "image/png": "[encoded data removed]",
            "text/plain": [
              "<Figure size 432x288 with 2 Axes>"
            ]
          },
          "metadata": {},
          "output_type": "display_data"
        },
        {
          "name": "stdout",
          "output_type": "stream",
          "text": [
            "              precision    recall  f1-score   support\n",
            "\n",
            "    negative       0.82      0.82      0.82        28\n",
            "    positive       0.77      0.77      0.77        22\n",
            "\n",
            "    accuracy                           0.80        50\n",
            "   macro avg       0.80      0.80      0.80        50\n",
            "weighted avg       0.80      0.80      0.80        50\n",
            "\n"
          ]
        }
      ]
    },
    {
      "cell_type": "markdown",
      "metadata": {
        "id": "ad7734d3"
      },
      "source": [
        "# Dense Representations \n",
        "\n",
        "##  Word Embeddings : Distributed representations via the distributional hypothesis \n",
        "\n",
        "**Goal**: We will try to obtain dense representations (as vectors of real numbers) of words (and possibly sentences). These representations are intended to be distributed: they are non-local representations. We represent an object as a combination of *features*, as opposed to the attribution of a dedicated symbol: see the founding work of Geoffrey Hinton, among others, on the subject: [Distributed Representations](https://web.stanford.edu/~jlmcc/papers/PDP/Chapter3.pdf).\n",
        "\n",
        "The term *distributed* representations is very general, but is what we are looking for. The challenge is therefore to be able to build, automatically, such representations.\n",
        "\n",
        "**Underlying idea**: It is based on the distributional hypothesis: contextual information is sufficient to obtain a viable representation of linguistic objects.\n",
        " - For a large class of cases [...] the meaning of a word is its use in the language.\" Wittgenstein (Philosophical Investigations, 43 - 1953)\n",
        " - You shall know a word by the company it keeps, Firth.\n",
        "\n",
        "Thus, a word can be characterized by the words that accompany it, via co-occurrence counts. Two words with a similar meaning will have a similar contextual distribution and are therefore more likely to appear in similar contexts. This hypothesis can be used as a justification for the application of statistics to semantics (information extraction, semantic analysis). It also allows some form of generalization: we can assume that the information we have about a word will be generalized to words with a similar distribution. \n",
        "\n",
        "**Motivation**: The goal is to obtain distributed representations in order to be able to effectively**:\n",
        "- Directly perform a semantic surface analysis.\n",
        "- Use it as a source of information for other language-related models and applications, especially for sentiment analysis. \n",
        "\n",
        "\n",
        "**Terminology**: Be careful not to confuse the idea of *distributed* and *distributional* representation. The latter generally indicates (for words) that the representation has been obtained strictly from co-occurrence counts, whereas additional information (document labels, part of speech tags, ...) can be used to build distributed representations. \n",
        "The models that allow to build these dense representations, in the form of vectors, are often called *vector spaces models*. These representations are also regularly called *word embeddings*, because the words are embedded in a vector space. In French, we often find the term *word embedding* or *lexical embedding*."
      ]
    },
    {
      "cell_type": "markdown",
      "metadata": {
        "id": "04a4cf22"
      },
      "source": [
        "## Getting representations: counts of occurrences and co-occurrences\n",
        "\n",
        "Depending on the type of corpus available, different types of distributional information can be obtained. If we have access to a collection of documents, we can thus choose to count the number of occurrences of each word in each document, to obtain a $words \\times documents$ matrix: it is on this principle that **Tf-Idf** is built. We will now look at a more general case: we have a large amount of data in text form, and we want to obtain representations of words in the form of vectors of reduced size, without the need to divide them into documents or categories. \n",
        "\n",
        "Suppose we have a corpus containing $T$ different words. We will construct a $\\mathbf{M}$ matrix of size $T \\times T$ which will contain the number of co-occurrences between words. There will be different factors to consider when constructing this matrix: \n",
        "\n",
        "- How do you define the 'context' of a word - context which will tell you what terms co-occur with that word?\n",
        "\n",
        "We can choose to use different scales: the document, the sentence, the nominal group, or simply a window of $k$ words, depending on the information we want to capture.\n",
        "\n",
        "\n",
        "- How do we quantify the importance of the counts? \n",
        "\n",
        "$\\rightarrow$ For example, we can give a decreasing weight to a co-occurrence according to the distance between the two words concerned ($\\frac{1}{d+1}$ for a separation by $d$ words).\n",
        "\n",
        "\n",
        "- Should we keep all the words that appear in the corpus? \n",
        "\n",
        "$\\rightarrow$ Usually not. We will see that for large corpora, the number $T$ of different words is huge. Second, even if the number of words is reasonable, we will have very little distributional information on the rarest words, and the representation obtained will be of poor quality. We will have to ask ourselves how to filter these words, and how to treat the words we choose not to represent.  "
      ]
    },
    {
      "cell_type": "markdown",
      "metadata": {
        "id": "2c47f45c"
      },
      "source": [
        "#### Example:\n",
        "\n",
        "Let's look at the following text:\n",
        "\n",
        "*I walked down down the boulevard. I walked down the avenue. I ran down the boulevard. I walk down the city. I walk down the the avenue.*\n",
        "\n",
        "We choose to define the context of a word as the sentence to which it belongs, and to not use any weighting.\n",
        "We obtain the following matrix: \n",
        "\n",
        "|     *         | I | the | down | walked | boulevard | avenue | walk | ran | city |\n",
        "|---------------|---|-----|------|--------|-----------|--------|------|-----|------|\n",
        "| I             | 0 |      6 |    6 |   2 |         2 |      2 |   2 |    1 |    1 |\n",
        "| the           | 6 |      2 |    7 |   2 |         2 |      3 |   3 |    1 |    1 |\n",
        "| down          | 6 |      7 |    2 |   3 |         3 |      2 |   2 |    1 |    1 |\n",
        "| walked        | 2 |      2 |    3 |   0 |         1 |      1 |   0 |    0 |    0 |\n",
        "| boulevard     | 2 |      2 |    3 |   1 |         0 |      0 |   0 |    1 |    0 |\n",
        "| avenue        | 2 |      3 |    2 |   1 |         0 |      0 |   1 |    0 |    0 |\n",
        "| ran           | 2 |      3 |    2 |   0 |         0 |      1 |   0 |    0 |    1 |\n",
        "| walk          | 1 |      1 |    1 |   0 |         1 |      0 |   0 |    0 |    0 |\n",
        "| city          | 1 |      1 |    1 |   0 |         0 |      0 |   1 |    0 |    1 |"
      ]
    },
    {
      "cell_type": "markdown",
      "metadata": {
        "id": "0c009be5"
      },
      "source": [
        "### In practice: get a Vocabulary.\n",
        "\n",
        "To begin, we will implement separately a function returning the vocabulary. Here we will have to be able to control its size, either by indicating a maximum number of words, or a minimum number of occurrences to take the words into account. We add, at the end, an \"unknown\" word that will replace all the words that do not appear in our \"limited\" vocabulary. \n",
        "\n",
        "Reminder: use tokenization to obtain words from a document !"
      ]
    },
    {
      "cell_type": "code",
      "metadata": {
        "id": "U6EIyYpmsJKB"
      },
      "source": [
        "def vocabulary(corpus, count_threshold=1, voc_threshold=0):\n",
        "    \"\"\"    \n",
        "    Function using word counts to build a vocabulary - can be improved with a second parameter for \n",
        "    setting a frequency threshold\n",
        "    Params:\n",
        "        corpus (list of list of strings): corpus of sentences\n",
        "        count_threshold (int): number of occurences necessary for a word to be included in the vocabulary\n",
        "        voc_threshold (int): maximum size of the vocabulary \n",
        "    Returns:\n",
        "        vocabulary (dictionary): keys: list of distinct words across the corpus\n",
        "                                 values: indexes corresponding to each word sorted by frequency        \n",
        "    \"\"\"\n",
        "    word_counts = {}\n",
        "    for sentence in corpus:\n",
        "        for word in word_tokenize(sentence):\n",
        "            if word in word_counts:\n",
        "                word_counts[word]+=1\n",
        "            else:\n",
        "                word_counts[word]=1\n",
        "  \n",
        "    filtered_word_counts={k:v for k,v in word_counts.items() if v>=count_threshold}\n",
        "    \n",
        "    sorted_words = sorted(filtered_word_counts.keys(),key=word_counts.get, reverse=True)\n",
        "    \n",
        "    if voc_threshold:   \n",
        "        sorted_words = sorted_words[:voc_threshold]\n",
        "\n",
        "    vocabulary_word_counts = {word:filtered_word_counts[word] for word in sorted_words}\n",
        "    vocabulary = {word:i for i,word in enumerate(sorted_words)}\n",
        "    \n",
        "    \n",
        "    vocabulary_word_counts['UNK']=0\n",
        "    vocabulary['UNK']=len(vocabulary)\n",
        "\n",
        "    return vocabulary, vocabulary_word_counts"
      ],
      "execution_count": null,
      "outputs": []
    },
    {
      "cell_type": "code",
      "metadata": {
        "colab": {
          "base_uri": "https://localhost:8080/"
        },
        "id": "bb40b33c",
        "outputId": "7413f298-78ab-4ec6-f3df-1ac1a95b9f61"
      },
      "source": [
        "# Example for testing:\n",
        "\n",
        "corpus = ['I walked down down the boulevard',\n",
        "          'I walked down the avenue',\n",
        "          'I ran down the boulevard',\n",
        "          'I walk down the city',\n",
        "          'I walk down the the avenue']\n",
        "\n",
        "voc, counts = vocabulary(corpus, count_threshold = 3)\n",
        "print(voc)\n",
        "print(counts)\n",
        "\n",
        "# We expect something like this:\n",
        "#  {'down': 0, 'the': 1, 'i': 2, 'UNK': 3}\n",
        "#  {'down': 6, 'the': 6, 'i': 5, 'UNK': 0}\n",
        "\n",
        "voc, counts = vocabulary(corpus)\n",
        "print(voc)\n",
        "print(counts)\n",
        "\n",
        "# We expect something like this:\n",
        "#  {'down': 0, 'the': 1, 'i': 2, 'walked': 3, 'boulevard': 4, 'avenue': 5, 'walk': 6, 'ran': 7, 'city': 8, 'UNK': 9}\n",
        "#  {'down': 6, 'the': 6, 'i': 5, 'walked': 2, 'boulevard': 2, 'avenue': 2, 'walk': 2, 'ran': 1, 'city': 1, 'UNK': 0}"
      ],
      "execution_count": null,
      "outputs": [
        {
          "name": "stdout",
          "output_type": "stream",
          "text": [
            "{'down': 0, 'the': 1, 'I': 2, 'UNK': 3}\n",
            "{'down': 6, 'the': 6, 'I': 5, 'UNK': 0}\n",
            "{'down': 0, 'the': 1, 'I': 2, 'walked': 3, 'boulevard': 4, 'avenue': 5, 'walk': 6, 'ran': 7, 'city': 8, 'UNK': 9}\n",
            "{'down': 6, 'the': 6, 'I': 5, 'walked': 2, 'boulevard': 2, 'avenue': 2, 'walk': 2, 'ran': 1, 'city': 1, 'UNK': 0}\n"
          ]
        }
      ]
    },
    {
      "cell_type": "markdown",
      "metadata": {
        "id": "6e48c3af"
      },
      "source": [
        "### Obtaining co-occurences:\n",
        "\n",
        "The function takes as input the corpus (a list of strings, corresponding to documents/sentences) and a vocabulary, as well as the size of the context window. We can also implement the simplest solution: the context of a word being the full document to which it belongs. \n",
        "Finally, we can implement the possibility of making linearly decrease the importance of the context of a word when getting further from the input word."
      ]
    },
    {
      "cell_type": "code",
      "metadata": {
        "id": "1qbUuTL5mEZj"
      },
      "source": [
        "def co_occurence_matrix(corpus, vocabulary, window=0, distance_weighting=False):\n",
        "    \"\"\"\n",
        "    Params:\n",
        "        corpus (list of list of strings): corpus of sentences\n",
        "        vocabulary (dictionary): words to use in the matrix\n",
        "        window (int): size of the context window; when 0, the context is the whole sentence\n",
        "        distance_weighting (bool): indicates if we use a weight depending on the distance between words for co-oc counts\n",
        "    Returns:\n",
        "        matrix (array of size (len(vocabulary), len(vocabulary))): the co-oc matrix, using the same ordering as the vocabulary given in input    \n",
        "    \"\"\" \n",
        "    l = len(vocabulary)\n",
        "    M = np.zeros((l,l))\n",
        "    for sent in corpus:\n",
        "        # Get the sentence\n",
        "        sent = word_tokenize(sent)\n",
        "        # Obtain the indexes of the words in the sentence from the vocabulary \n",
        "        sent_idx = [vocabulary[word] if word in vocabulary else vocabulary['UNK']  for word in sent]  \n",
        "        # Go through the indexes and add 1 / dist(i,j) to M[i,j] if words of index i and j appear in the same window\n",
        "        for i, idx_i in enumerate(sent_idx):\n",
        "            # If we consider a limited context:\n",
        "            if window > 0:\n",
        "                # Create a list containing the indexes that are on the left of the current index 'idx_i'\n",
        "                l_ctx_idx = sent_idx[i-min(window,i):i]\n",
        "            # If the context is the entire document:\n",
        "            else:\n",
        "                # The list containing the left context is easier to create\n",
        "                l_ctx_idx = sent_idx[:i]\n",
        "            # Go through the list and update M[i,j]:    \n",
        "            for j, idx_j in enumerate(l_ctx_idx):\n",
        "                if distance_weighting:\n",
        "                    weight = 1/(len(l_ctx_idx)-j)\n",
        "                else:\n",
        "                    weight = 1.0\n",
        "                M[idx_i, idx_j] += weight \n",
        "                M[idx_j, idx_i] += weight \n",
        "    return M  "
      ],
      "execution_count": null,
      "outputs": []
    },
    {
      "cell_type": "code",
      "metadata": {
        "colab": {
          "base_uri": "https://localhost:8080/"
        },
        "id": "4299c314",
        "outputId": "9b0665ef-0709-491f-d955-835f9b5b3260"
      },
      "source": [
        "print(co_occurence_matrix(corpus, voc, 0, False))\n",
        "# Careful: results will differ from the above example because the vocabulary and the order of words are not the same ! "
      ],
      "execution_count": null,
      "outputs": [
        {
          "name": "stdout",
          "output_type": "stream",
          "text": [
            "[[2. 7. 6. 3. 3. 2. 2. 1. 1. 0.]\n",
            " [7. 2. 6. 2. 2. 3. 3. 1. 1. 0.]\n",
            " [6. 6. 0. 2. 2. 2. 2. 1. 1. 0.]\n",
            " [3. 2. 2. 0. 1. 1. 0. 0. 0. 0.]\n",
            " [3. 2. 2. 1. 0. 0. 0. 1. 0. 0.]\n",
            " [2. 3. 2. 1. 0. 0. 1. 0. 0. 0.]\n",
            " [2. 3. 2. 0. 0. 1. 0. 0. 1. 0.]\n",
            " [1. 1. 1. 0. 1. 0. 0. 0. 0. 0.]\n",
            " [1. 1. 1. 0. 0. 0. 1. 0. 0. 0.]\n",
            " [0. 0. 0. 0. 0. 0. 0. 0. 0. 0.]]\n"
          ]
        }
      ]
    },
    {
      "cell_type": "markdown",
      "metadata": {
        "id": "0862ebe4"
      },
      "source": [
        "#### Application to a real data set\n",
        "\n",
        "We're going to work with the **imdb** data.\n",
        "\n",
        "#### Quick study of the data\n",
        "\n",
        "We would like to get an idea of what's in these film reviews before we proceed. So we'll get the vocabulary (in full) and represent the frequencies of the words, in order (be careful, you'll have to use a logarithmic scale): we should find back Zipf's law. This will give us an idea of the size of the vocabulary we will be able to choose: it's a matter of making a compromise between the necessary resources (size of the objects in memory) and the amount of information we can get from them (rare words can bring a lot of information, but it's difficult to learn good representations of them, because they are rare!).  "
      ]
    },
    {
      "cell_type": "code",
      "metadata": {
        "colab": {
          "base_uri": "https://localhost:8080/",
          "height": 833
        },
        "id": "583e6f1d",
        "outputId": "d21c7fa6-4509-4742-8274-353c503c53f0"
      },
      "source": [
        "# We would like to display the curve of word frequencies given their rank (index) in the vocabulary\n",
        "vocab, word_counts = vocabulary(train_texts)\n",
        "rank_counts = {w:[vocab[w], word_counts[w]] for w in vocab if w!='UNK'}\n",
        "\n",
        "rank_counts_array = np.array(list(rank_counts.values()))\n",
        "\n",
        "plt.figure(figsize=(20,5))\n",
        "plt.title('Word counts versus rank')\n",
        "plt.scatter(rank_counts_array[:,0], rank_counts_array[:,1])\n",
        "plt.yscale('log')\n",
        "plt.show()\n",
        "\n",
        "# We would like to know how much of the data is represented by the 'k' most frequent words\n",
        "print('Vocabulary size: %i' % len(vocab))\n",
        "print('Part of the corpus by taking the \"x\" most frequent words:')\n",
        "for i in range(5000, len(vocab), 5000):\n",
        "    print('%i : %.2f' % (i, np.sum(rank_counts_array[:i, 1]) / np.sum(rank_counts_array[:,1]) ))"
      ],
      "execution_count": null,
      "outputs": [
        {
          "data": {
            "image/png": "[encoded data removed]",
            "text/plain": [
              "<Figure size 1440x360 with 1 Axes>"
            ]
          },
          "metadata": {},
          "output_type": "display_data"
        },
        {
          "name": "stdout",
          "output_type": "stream",
          "text": [
            "Vocabulary size: 134958\n",
            "Part of the corpus by taking the \"x\" most frequent words:\n",
            "5000 : 0.90\n",
            "10000 : 0.93\n",
            "15000 : 0.95\n",
            "20000 : 0.96\n",
            "25000 : 0.97\n",
            "30000 : 0.97\n",
            "35000 : 0.98\n",
            "40000 : 0.98\n",
            "45000 : 0.98\n",
            "50000 : 0.99\n",
            "55000 : 0.99\n",
            "60000 : 0.99\n",
            "65000 : 0.99\n",
            "70000 : 0.99\n",
            "75000 : 0.99\n",
            "80000 : 0.99\n",
            "85000 : 0.99\n",
            "90000 : 0.99\n",
            "95000 : 0.99\n",
            "100000 : 1.00\n",
            "105000 : 1.00\n",
            "110000 : 1.00\n",
            "115000 : 1.00\n",
            "120000 : 1.00\n",
            "125000 : 1.00\n",
            "130000 : 1.00\n"
          ]
        }
      ]
    },
    {
      "cell_type": "markdown",
      "metadata": {
        "id": "34a6d3e3"
      },
      "source": [
        "**Result of the analysis**: we can be satisfied with a vocabulary of 10,000 or even 5,000 words - this is important, because it will determine the size of the objects we will manipulate. "
      ]
    },
    {
      "cell_type": "code",
      "metadata": {
        "id": "f51dfe6f"
      },
      "source": [
        "vocab_5k, word_counts_5k = vocabulary(train_texts, 0, 5000)"
      ],
      "execution_count": null,
      "outputs": []
    },
    {
      "cell_type": "code",
      "metadata": {
        "colab": {
          "base_uri": "https://localhost:8080/"
        },
        "id": "33dd36cd",
        "outputId": "e9bcc04c-dfb7-480d-a183-b30c04323798"
      },
      "source": [
        "print(vocab_5k['cinema'])"
      ],
      "execution_count": null,
      "outputs": [
        {
          "name": "stdout",
          "output_type": "stream",
          "text": [
            "495\n"
          ]
        }
      ]
    },
    {
      "cell_type": "code",
      "metadata": {
        "colab": {
          "base_uri": "https://localhost:8080/"
        },
        "id": "b716c98a",
        "outputId": "0ae15b19-a318-47d0-e247-81016e1e9013"
      },
      "source": [
        "M5dist = co_occurence_matrix(train_texts, vocab_5k, window=5, distance_weighting=True)\n",
        "M20 = co_occurence_matrix(train_texts, vocab_5k, window=20, distance_weighting=False)\n",
        "print(M5dist.shape)\n",
        "print(M20.shape)"
      ],
      "execution_count": null,
      "outputs": [
        {
          "name": "stdout",
          "output_type": "stream",
          "text": [
            "(5001, 5001)\n",
            "(5001, 5001)\n"
          ]
        }
      ]
    },
    {
      "cell_type": "markdown",
      "metadata": {
        "id": "a6b2d5cd"
      },
      "source": [
        "### Vector comparison \n",
        "\n",
        "We can use these very large-dimensional vectors for a very simple semantic analysis: for example, by looking for the nearest neighbors of a words. However, we need to be careful to the distance that we use (euclidean, cosine). Vector normalization can also play a role; in any way, we need to not over-interpret this type of results. "
      ]
    },
    {
      "cell_type": "code",
      "metadata": {
        "colab": {
          "base_uri": "https://localhost:8080/"
        },
        "id": "eb595f91",
        "outputId": "202b5b3e-b28c-4cfb-8b03-af41eefe2137"
      },
      "source": [
        "def euclidean(u, v):\n",
        "    return np.linalg.norm(u-v)\n",
        "\n",
        "def length_norm(u):\n",
        "    return u / np.sqrt(u.dot(u))\n",
        "\n",
        "def cosine(u, v):\n",
        "    return 1.0 - length_norm(u).dot(length_norm(v))\n",
        "\n",
        "from sklearn.neighbors import NearestNeighbors\n",
        "\n",
        "def print_neighbors(distance, voc, co_oc, mot, k=10):\n",
        "    inv_voc = {id: w for w, id in voc.items()}\n",
        "    neigh = NearestNeighbors(n_neighbors=k, algorithm='brute', metric=distance)\n",
        "    neigh.fit(co_oc) \n",
        "    dist, ind = neigh.kneighbors([co_oc[voc[mot]]])\n",
        "    print(\"Plus proches voisins de %s selon la distance '%s': \" % (mot, distance.__name__))\n",
        "    print([[inv_voc[i] for i in s[1:]] for s in ind])\n",
        "    \n",
        "print(\"With a large context, without taking in account distance between words:\")    \n",
        "print_neighbors(euclidean, vocab_5k, M20, 'good')\n",
        "print_neighbors(cosine, vocab_5k, M20, 'good')\n",
        "print(\"\")\n",
        "print(\"With a small context, and reducing the impact of counts when words are distant:\")    \n",
        "print_neighbors(euclidean, vocab_5k, M5dist, 'good')\n",
        "print_neighbors(cosine, vocab_5k, M5dist, 'good') "
      ],
      "execution_count": null,
      "outputs": [
        {
          "name": "stdout",
          "output_type": "stream",
          "text": [
            "With a large context, without taking in account distance between words:\n",
            "Plus proches voisins de good selon la distance 'euclidean': \n",
            "[['very', 'This', 'there', 'what', 'more', 'would', 'can', 'some', 'story']]\n",
            "Plus proches voisins de good selon la distance 'cosine': \n",
            "[['decent', 'great', 'very', 'pretty', 'nice', 'funny', 'entertaining', 'not', 'enjoyable']]\n",
            "\n",
            "With a small context, and reducing the impact of counts when words are distant:\n",
            "Plus proches voisins de good selon la distance 'euclidean': \n",
            "[['very', 'great', 'bad', 'just', 'really', 'also', 'little', 'even', 'she']]\n",
            "Plus proches voisins de good selon la distance 'cosine': \n",
            "[['great', 'fine', 'wonderful', 'simple', 'nice', 'decent', 'solid', 'serious', 'strong']]\n"
          ]
        }
      ]
    },
    {
      "cell_type": "markdown",
      "metadata": {
        "id": "e9ca8713"
      },
      "source": [
        "## Modifying the representations:\n",
        "\n",
        "We may want to alter the representations to obtain better features - depending on what use we will have for them.\n",
        "\n",
        "**Normalization**: Very easy: we want to cancel the influence of the magnitude of the counts on the representation.\n",
        "\n",
        "$$\\mathbf{m_{normalized}} = \\left[ \n",
        "   \\frac{m_{1}}{\\sum_{i=1}^{n}m_{i}}, \n",
        "   \\frac{m_{2}}{\\sum_{i=1}^{n}m_{i}}, \n",
        "   \\ldots\n",
        "   \\frac{m_{n}}{\\sum_{i=1}^{n}m_{i}}, \n",
        "\\right]$$\n",
        " \n",
        "**Pointwise Mutual Information**: The aim is to assess the extent to which the co-occurrence of the two terms is *unexpected*. This measure is the ratio of the joint probability of the two words and the product of their individual probabilities:\n",
        "$$\n",
        "\\text{PMI}(x,y) = \\log \\left( \\frac{P(x,y)}{P(x)P(y)} \\right)\n",
        "$$\n",
        "The joint probability of the two words corresponds to the number of times they are observed together, divided by the total number of co-occurrences in the corpus: \n",
        "$$ P(\\mathbf{M},w_{1},w_{2}) = \\frac{M_{w_{1},w_{2}}}{\\sum_{i=1}^{n}\\sum_{j=1}^{n} M_{i,j}} $$\n",
        "The individual probability of a word simply corresponds to its frequency, which can be calculated by counting all co-occurrences where that word appears:\n",
        "$$ P(\\mathbf{M},w) = \\frac{\\sum_{j=1}^{m} M_{w,j}}{\\sum_{i=1}^{n}\\sum_{j=1}^{n} M_{i,j}} $$\n",
        "Hence,\n",
        "$$ \n",
        "\\text{PMI}(\\mathbf{M},w_{1},w_{2}) = \\log  \\frac{M_{w_{1},w_{2}} \\times \\left( \\sum_{i=1}^{n}\\sum_{j=1}^{n} M_{i,j} \\right)}{\\left( \\sum_{j=1}^{n} M_{w_{1},j} \\right) \\times \\left( \\sum_{i=1}^{n}M_{i,w_{2}} \\right)} \n",
        "$$\n",
        "We thus calculate the discrepancy between the observation we have made in our corpus and the frequency of appearance of these terms if we consider them independent - i.e. we assume that their co-occurrence is a coincidence.\n",
        "\n",
        "The main problem with this measure is that it is not adapted to the case where no co-occurrence is observed. Since the PMI is supposed to return a positive quantity if more co-occurrences are observed than expected, and a negative quantity if fewer co-occurrences are observed, we cannot choose to replace $\\log(0)$ by $0$. A commonly used solution is to use the **Positive PMI**, which sets all negative values to $0$.\n",
        " \n",
        " $$ \\text{PPMI}(\\mathbf{M},w_{1},w_{2}) = \n",
        " \\begin{cases}\n",
        " \\text{PMI}(\\mathbf{M},w_{1},w_{2}) & \\textrm{if } \\text{PMI}(\\mathbf{M},w_{1},w_{2}) > 0 \\\\\n",
        " 0 & \\textrm{otherwise}\n",
        " \\end{cases} $$"
      ]
    },
    {
      "cell_type": "code",
      "metadata": {
        "id": "44b6e37b"
      },
      "source": [
        "def pmi(co_oc, positive=True):\n",
        "    sum_vec = co_oc.sum(axis=0)\n",
        "    sum_tot = sum_vec.sum()\n",
        "    with np.errstate(divide='ignore'):\n",
        "        pmi = np.log((co_oc * sum_tot) / (np.outer(sum_vec, sum_vec)))                   \n",
        "    pmi[np.isinf(pmi)] = 0.0  # log(0) = 0\n",
        "    if positive:\n",
        "        pmi[pmi < 0] = 0.0\n",
        "    return pmi"
      ],
      "execution_count": null,
      "outputs": []
    },
    {
      "cell_type": "code",
      "metadata": {
        "colab": {
          "base_uri": "https://localhost:8080/"
        },
        "id": "5a44ab9d",
        "outputId": "9de732f3-e811-4ed3-ab49-d64e55dd7c9b"
      },
      "source": [
        "PPMI5 = pmi(M5dist)\n",
        "PPMI20 = pmi(M20)\n",
        "print(\"Avec la PPMI:\")    \n",
        "print_neighbors(euclidean, vocab_5k, PPMI5, 'good')\n",
        "print_neighbors(cosine, vocab_5k, PPMI5, 'good')\n",
        "print_neighbors(euclidean, vocab_5k, PPMI20, 'good')\n",
        "print_neighbors(cosine, vocab_5k, PPMI20, 'good')\n"
      ],
      "execution_count": null,
      "outputs": [
        {
          "name": "stdout",
          "output_type": "stream",
          "text": [
            "Avec la PPMI:\n",
            "Plus proches voisins de good selon la distance 'euclidean': \n",
            "[['/', 'bad', 'br', 'but', 'good.', 'think', 'great', 'movie', 'UNK']]\n",
            "Plus proches voisins de good selon la distance 'cosine': \n",
            "[['bad', 'great', 'decent', 'excellent', 'nice', 'fine', 'interesting', 'funny', 'poor']]\n",
            "Plus proches voisins de good selon la distance 'euclidean': \n",
            "[['.', ',', 'is', 'but', 'and', 'it', 'movie', 'the', 'that']]\n",
            "Plus proches voisins de good selon la distance 'cosine': \n",
            "[['great', '.', 'decent', 'pretty', 'acting', 'bad', 'very', 'but', 'excellent']]\n"
          ]
        }
      ]
    },
    {
      "cell_type": "markdown",
      "metadata": {
        "id": "5ac08c90"
      },
      "source": [
        "### Co-occurences matrix: reducing the dimension\n",
        "\n",
        "#### Motivation\n",
        "\n",
        "The goal is not only to reduce the size of the data representation (then, we will work with smaller pre-determined sized representations, instead of working with vectors of the size of the vocabulary) but also showcase higher-level relationships between words: by reducing their representations to the *most important dimensions* of the data, we end up *generalizing* some properties of words.\n",
        "\n",
        "#### Dimension reduction via SVD \n",
        "\n",
        "A matrix is a linear transformation: applying a SVD to it is decomposing our linear transformation in a product of linear transformations of different types. We are changing the basis and replacing our data in a different space, using **eigenvectors**:\n",
        "\n",
        "$$ \\mathbf{M} = \\mathbf{U} \\mathbf{\\lambda} \\mathbf{V}^{\\text{T}} $$\n",
        "\n",
        "Matrices $\\mathbf{U}$, $\\mathbf{\\lambda}$, and $\\mathbf{V}$ have the following properties:\n",
        "- $\\mathbf{U}$ and $\\mathbf{V}$ are orthogonal matrices ($\\mathbf{U}^{\\text{T}} = \\mathbf{U}^{-1}$ and $\\mathbf{V}^{\\text{T}} = \\mathbf{V}^{-1}$). They contain the eingenvectors to the left and to the right of $\\mathbf{M}$.\n",
        "- $\\mathbf{\\lambda}$ is a diagonal matrix: careful, it is not necessarily square. diagonal coefficient are the eigenvalues of $\\mathbf{M}$.\n",
        "\n",
        "Then, the *most important dimensions* correspond to the highest eigenvalues. Reducing our data to a dimension $k$ corresponds to only keeping vectors corresponding to the $k$ first eigenvalues - which in turns is equivalent to keeping only the first $k$ vectors of $U$. \n",
        "We use ```TruncatedSVD``` from ```scikit-learn```:"
      ]
    },
    {
      "cell_type": "code",
      "metadata": {
        "colab": {
          "base_uri": "https://localhost:8080/"
        },
        "id": "b53128a5",
        "outputId": "669c1edb-851d-4835-ab36-c83345686ee9"
      },
      "source": [
        "from sklearn.decomposition import TruncatedSVD\n",
        "svd = TruncatedSVD(n_components=300)\n",
        "SVDEmbeddings = svd.fit_transform(M5dist)\n",
        "print(SVDEmbeddings.shape)\n",
        "\n",
        "print_neighbors(euclidean, vocab_5k, SVDEmbeddings, 'good')\n",
        "print_neighbors(cosine, vocab_5k, SVDEmbeddings, 'good')"
      ],
      "execution_count": null,
      "outputs": [
        {
          "name": "stdout",
          "output_type": "stream",
          "text": [
            "(5001, 300)\n",
            "Plus proches voisins de good selon la distance 'euclidean': \n",
            "[['very', 'great', 'bad', 'just', 'really', 'also', 'little', 'even', 'she']]\n",
            "Plus proches voisins de good selon la distance 'cosine': \n",
            "[['great', 'fine', 'pleasant', 'lousy', 'wonderful', 'decent', 'simple', 'nice', 'solid']]\n"
          ]
        }
      ]
    },
    {
      "cell_type": "markdown",
      "metadata": {
        "id": "6cc09634"
      },
      "source": [
        "Note: When applying this method to the count matrix $\\mathbf{M}$ of dimension $T \\times D$, where $\\mathbf{M}_{t,d}$ contains the number of occuerences of the word $t$ in the document $d$, we obtain the method called **Latent Semantic Analysis**, which is used to detect latent (semantic) components allowing to group documents together."
      ]
    },
    {
      "cell_type": "markdown",
      "metadata": {
        "id": "5169d9e9"
      },
      "source": [
        "#### Visualization in two dimensions\n",
        "\n",
        "We will now use **principal components analysis** (PCA) to visualize our data in two dimensions. This is equivalent to applying SVD to the covariance matrix of the data, in order for the principal components to be independant from each other an maximize the variance of the data. We use the class ```PCA``` from ```scikit-learn```: "
      ]
    },
    {
      "cell_type": "code",
      "metadata": {
        "colab": {
          "base_uri": "https://localhost:8080/",
          "height": 265
        },
        "id": "16c94a02",
        "outputId": "3fa1ebc2-0c4f-4225-ee41-667a0fbd0bc9"
      },
      "source": [
        "from sklearn.decomposition import PCA\n",
        "pca = PCA(n_components=2, whiten=True)\n",
        "Emb = pca.fit_transform(M5dist)\n",
        "\n",
        "words = ['bad', 'good', 'best', 'worst', 'poor', 'great',\n",
        "         'dialog', 'role', 'actor', 'camera', 'scene',\n",
        "         'film', 'movie', 'award']\n",
        "ind_words = [vocab_5k[w] for w in words]\n",
        "x_words = [Emb[ind,0] for ind in ind_words]\n",
        "y_words = [Emb[ind,1] for ind in ind_words]\n",
        "\n",
        "fig, ax = plt.subplots()\n",
        "ax.scatter(x_words, y_words)\n",
        "\n",
        "for i, w in enumerate(words):\n",
        "    ax.annotate(w, (x_words[i], y_words[i]), (x_words[i] + 0.001, y_words[i] + 0.001))"
      ],
      "execution_count": null,
      "outputs": [
        {
          "data": {
            "image/png": "[encoded data removed]",
            "text/plain": [
              "<Figure size 432x288 with 1 Axes>"
            ]
          },
          "metadata": {},
          "output_type": "display_data"
        }
      ]
    },
    {
      "cell_type": "code",
      "metadata": {
        "colab": {
          "base_uri": "https://localhost:8080/",
          "height": 264
        },
        "id": "9a21059c",
        "outputId": "d8f001e4-d4f0-4248-d514-36ff51874487"
      },
      "source": [
        "Norm5 = M5dist / np.linalg.norm(M5dist, ord=2, axis=1, keepdims=True)\n",
        "\n",
        "pca = PCA(n_components=2, whiten=True)\n",
        "Emb = pca.fit_transform(Norm5)\n",
        "\n",
        "words = ['bad', 'good', 'best', 'worst', 'poor', 'great',\n",
        "         'dialog', 'role', 'actor', 'camera', 'scene',\n",
        "         'film', 'movie', 'award']\n",
        "ind_words = [vocab_5k[w] for w in words]\n",
        "x_words = [Emb[ind,0] for ind in ind_words]\n",
        "y_words = [Emb[ind,1] for ind in ind_words]\n",
        "\n",
        "fig, ax = plt.subplots()\n",
        "ax.scatter(x_words, y_words)\n",
        "\n",
        "for i, w in enumerate(words):\n",
        "    ax.annotate(w, (x_words[i], y_words[i]), (x_words[i] + 0.001, y_words[i] + 0.001))"
      ],
      "execution_count": null,
      "outputs": [
        {
          "data": {
            "image/png": "[encoded data removed]",
            "text/plain": [
              "<Figure size 432x288 with 1 Axes>"
            ]
          },
          "metadata": {},
          "output_type": "display_data"
        }
      ]
    },
    {
      "cell_type": "markdown",
      "metadata": {
        "id": "bf8109b4"
      },
      "source": [
        "## Getting a representation: commonly used algorithms\n",
        "\n",
        "The idea here is to define a set of representations ${w_{i}}_{i=1}^{V}$, of predefined dimension $d$ (here, we will work with $d = 300$), for all the words $i$ of the vocabulary $V$ - then **train** these representations to match what we want. "
      ]
    },
    {
      "cell_type": "markdown",
      "metadata": {
        "id": "7077ff3c"
      },
      "source": [
        "### Word2Vec\n",
        "\n",
        "\n",
        "####  The skip-gram model\n",
        "\n",
        "The basic skip-gram model estimates the probabilities of a pair of words $(i, j)$ to appear together in data:\n",
        "\n",
        "$$P(j \\mid i) = \\frac{\\exp(w_{i} c_{j})}{\\sum_{j'\\in V}\\exp(w_{i} c_{j'})}$$\n",
        "\n",
        "\n",
        "where $w_{i}$ is the lign vector (of the word) $i$ and $c_{j}$ is the column vector (of a context word) $j$. The objective is to minimize the following quantity:\n",
        "\n",
        "\n",
        "$$ -\\sum_{i=1}^{m} \\sum_{k=1}^{|V|} \\textbf{1}\\{o_{i}=k\\} \\log \\frac{\\exp(w_{i} c_{k})}{\\sum_{j=1}^{|V|} \\exp(w_{i} c_{j})}$$\n",
        "\n",
        "\n",
        "where $V$ is the vocabulary.\n",
        "The inputs $w_{i}$ are the representations of the words, which are updated during training, and the output is an *one-hot* $o$ vector, which contains only one $1$ and $0$. For example, if `good` is the 47th word in the vocabulary, the output $o$ for an example or `good` is the word to predict will consist of $0$s everywhere except $1$ in the 47th position of the vector. `good` will be the word to predict when the input $w$ is a word in its context.\n",
        "We therefore obtain this output with standard softmax - we add a bias term $b$ .\n",
        "\n",
        "\n",
        "$$ o = \\textbf{softmax}(w_{a}C + b)$$\n",
        "\n",
        "\n",
        "If we use the set of representations for the whole vocabulary (the matrix $W$) as input, we get:\n",
        "\n",
        "\n",
        "$$ O = \\textbf{softmax}(WC + b)$$\n",
        "\n",
        "\n",
        "and so we come back to the central idea of all our methods: we seek to obtain word representations from co-occurrence counts. Here, we train the parameters contained in $W$ and $C$, two matrices representing the words in reduced dimension (300) so that their scalar product is as close as possible to the co-occurrences observed in the data, using a maximum likelihood objective.\n",
        "\n",
        "#### Skip-gram with negative sampling\n",
        "\n",
        "The training of the skip-gram model implies to calculate a sum on the whole vocabulary, because of the **softmax**. As soon as the size of the vocabulary increases, it becomes impossible to compute. In order to make the calculations faster, we change the objective and use the method of *negative sampling* (or, very close to it, the *noise contrastive estimation*).\n",
        "\n",
        "\n",
        "If we note $\\mathcal{D}$ the data set and we note $\\mathcal{D}'$ a set of pairs of words that are **not** in the data (and that in practice, we draw randomly), the objective is:\n",
        "\n",
        "\n",
        "$$\\sum_{i, j \\in \\mathcal{D}}-\\log\\sigma(w_{i}c_{j}) + \\sum_{i, j \\in \\mathcal{D}'}\\log\\sigma(w_{i}c_{j})$$\n",
        "\n",
        "\n",
        "where $\\sigma$ is the sigmoid activation function $\\frac{1}{1 + \\exp(-x)}$.\n",
        "A common practice is to generate pairs from $\\mathcal{D}'$ in proportion to the frequencies of the words in the training data (the so-called unigram distribution):\n",
        "\n",
        "\n",
        "$$P(w) = \\frac{\\textbf{T}(w)^{0.75}}{\\sum_{w'\\in V} \\textbf{T}(w')}$$\n",
        "\n",
        "\n",
        "Although different, this new objective function is a sufficient approximation of the previous one, and is based on the same principle. Much research has been done on this objective: for example, [Levy and Golberg 2014](http://papers.nips.cc/paper/5477-neural-word-embedding-as-implicit-matrix-factorization) shows that the objective calculates the PMI matrix shifted by a constant value. One can also see [Cotterell et al. 2017](https://aclanthology.coli.uni-saarland.de/papers/E17-2028/e17-2028) for an interpretation of the algorithm as a variant of PCA."
      ]
    },
    {
      "cell_type": "markdown",
      "metadata": {
        "id": "81cfcc3b"
      },
      "source": [
        "We will use the ```gensim``` library for its implementation of word2vec in python. We'll have to make a specific use of it, since we want to keep the same vocabulary as before: we'll first create the class, then get the vocabulary we generated above. \n",
        "To avoid having to put all the data in memory all at once, we define a generator, which will take all the input data and pre-process it, and return to the ```Word2Vec``` class sentence by sentence. "
      ]
    },
    {
      "cell_type": "code",
      "metadata": {
        "id": "0b10a1ea"
      },
      "source": [
        "from gensim.models import Word2Vec\n",
        "\n",
        "model = Word2Vec(size=300,\n",
        "                 window=5,\n",
        "                 null_word=len(word_counts_5k))\n",
        "model.build_vocab_from_freq(word_counts_5k)"
      ],
      "execution_count": null,
      "outputs": []
    },
    {
      "cell_type": "code",
      "metadata": {
        "id": "2ddce8b5"
      },
      "source": [
        "preprocessed_corpus = [word_tokenize(train_texts[i]) for i in range(len(train_texts))]"
      ],
      "execution_count": null,
      "outputs": []
    },
    {
      "cell_type": "code",
      "metadata": {
        "colab": {
          "base_uri": "https://localhost:8080/"
        },
        "id": "72719716",
        "outputId": "5b31f214-973c-440e-a36e-be95a0a74db8"
      },
      "source": [
        "model.train(preprocessed_corpus, total_examples=len(train_texts), epochs=20, report_delay=1)"
      ],
      "execution_count": null,
      "outputs": [
        {
          "data": {
            "text/plain": [
              "(85133726, 141130640)"
            ]
          },
          "execution_count": 138,
          "metadata": {},
          "output_type": "execute_result"
        }
      ]
    },
    {
      "cell_type": "code",
      "metadata": {
        "id": "3c4a694d"
      },
      "source": [
        "W2VEmbeddings = model.wv.vectors"
      ],
      "execution_count": null,
      "outputs": []
    },
    {
      "cell_type": "markdown",
      "metadata": {
        "id": "baa4258d"
      },
      "source": [
        "### Glove\n",
        "\n",
        "The objective defined by Glove ([Pennington et al. (2014)](http://www.aclweb.org/anthology/D/D14/D14-1162.pdf)) is to learn from the vectors $w_{i}$ and $w_{k}$ so that their scalar product corresponds to the logarithm of their **Pointwise Mutual Information**: \n",
        "\n",
        "\n",
        "$$ w_{i}^\\top w_{k} = (PMI(w_{i}, w_{k}))$$\n",
        "\n",
        "\n",
        "In the article, this objective is carefully justified by a reasoning about the operations one wants to perform with these vectors and the properties they should have - in particular, symmetry between rows and columns (see the article for more details).  \n",
        "The final goal obtained is the following, where $M$ is the co-occurrence matrix:\n",
        "\n",
        "\n",
        "$$\\sum_{i, j=1}^{|V|} f\\left(M_{ij}\\right)\n",
        "  \\left(w_i^\\top w_j + b_i + b_j - \\log M_{ij}\\right)^2$$\n",
        "  \n",
        " \n",
        "Here, $f$ is a *scaling* function that reduces the importance of the most frequent co-occurrence counts: \n",
        "\n",
        "\n",
        "$$f(x) \n",
        "\\begin{cases}\n",
        "(x/x_{\\max})^{\\alpha} & \\textrm{if } x < x_{\\max} \\\\\n",
        "1 & \\textrm{otherwise}\n",
        "\\end{cases}$$\n",
        "\n",
        "\n",
        "Usually, we choose $\\alpha=0.75$ and $x_{\\max} = 100$, although these parameters may need to be changed depending on the data."
      ]
    },
    {
      "cell_type": "markdown",
      "metadata": {
        "id": "da500b0f"
      },
      "source": [
        "The following code uses the gensim API to retrieve pre-trained representations (It is normal that the loading is long)."
      ]
    },
    {
      "cell_type": "code",
      "metadata": {
        "id": "5e681783"
      },
      "source": [
        "import gensim.downloader as api\n",
        "loaded_glove_model = api.load(\"glove-wiki-gigaword-300\")"
      ],
      "execution_count": null,
      "outputs": []
    },
    {
      "cell_type": "markdown",
      "metadata": {
        "id": "f6cd3015"
      },
      "source": [
        "We can extract the embedding matrix this way, and check its size:"
      ]
    },
    {
      "cell_type": "code",
      "metadata": {
        "colab": {
          "base_uri": "https://localhost:8080/"
        },
        "id": "8ac8626e",
        "outputId": "051c944f-a717-4cf1-8598-7952d67242ad"
      },
      "source": [
        "loaded_glove_embeddings = loaded_glove_model.vectors\n",
        "print(loaded_glove_embeddings.shape)"
      ],
      "execution_count": null,
      "outputs": [
        {
          "name": "stdout",
          "output_type": "stream",
          "text": [
            "(400000, 300)\n"
          ]
        }
      ]
    },
    {
      "cell_type": "markdown",
      "metadata": {
        "id": "2060f888"
      },
      "source": [
        "We can see that there are $400,000$ words represented, and that the embeddings are of size $300$. We define a function that returns, from the loaded model, the vocabulary and the embedding matrix according to the structures we used before. We add, here again, an unknown word \"UNK\" in case there are words in our data that are not part of the $400,000$ words represented here. "
      ]
    },
    {
      "cell_type": "code",
      "metadata": {
        "id": "805f33f1"
      },
      "source": [
        "def get_glove_voc_and_embeddings(glove_model):\n",
        "    voc = {word : index for word, index in enumerate(glove_model.index2word)}       # We changed index_to_key into index2word (due to a problem of incompatibility with the running version)\n",
        "    voc['UNK'] = len(voc)\n",
        "    embeddings = glove_model.vectors\n",
        "    return voc, embeddings"
      ],
      "execution_count": null,
      "outputs": []
    },
    {
      "cell_type": "code",
      "metadata": {
        "id": "a777ab59"
      },
      "source": [
        "loaded_glove_voc, loaded_glove_embeddings = get_glove_voc_and_embeddings(loaded_glove_model)"
      ],
      "execution_count": null,
      "outputs": []
    },
    {
      "cell_type": "markdown",
      "metadata": {
        "id": "62897704"
      },
      "source": [
        "In order to compare the representations loaded here and the ones produced with word2vec, the same vocabulary should be used. For this purpose, I reuse the following code to create a $5000$ word vocabulary from the data, and I add at the end a function that returns the matrix of representations loaded with Glove for these $5000$ words only, in the right order. "
      ]
    },
    {
      "cell_type": "code",
      "metadata": {
        "id": "e4b16bd6"
      },
      "source": [
        "def get_glove_adapted_embeddings(glove_model, input_voc):\n",
        "    keys = {i: glove_model.index2word.index(w) for w, i in input_voc.items() if w in glove_model.index2word}  # We changed also this line due to the same problem above\n",
        "    index_dict = {i: key for i, key in keys.items() if key is not None}\n",
        "    embeddings = np.zeros((len(input_voc),glove_model.vectors.shape[1]))\n",
        "    for i, ind in index_dict.items():\n",
        "        embeddings[i] = glove_model.vectors[ind]\n",
        "    return embeddings"
      ],
      "execution_count": 159,
      "outputs": []
    },
    {
      "cell_type": "code",
      "metadata": {
        "id": "95a23fbc"
      },
      "source": [
        "GloveEmbeddings = get_glove_adapted_embeddings(loaded_glove_model, vocab_5k)"
      ],
      "execution_count": 160,
      "outputs": []
    },
    {
      "cell_type": "markdown",
      "metadata": {
        "id": "4063073d"
      },
      "source": [
        "This function takes as input the model loaded using the Gensim API, as well as a vocabulary we created ourselves, and returns the embedding matrix from the loaded model, for the words in our vocabulary and in the right order.\n",
        "Note: unknown words are represented by a vector of zeros:"
      ]
    },
    {
      "cell_type": "code",
      "metadata": {
        "id": "cb4e9ad2",
        "colab": {
          "base_uri": "https://localhost:8080/"
        },
        "outputId": "04d142a2-1602-422e-ac57-e83f49b77e9c"
      },
      "source": [
        "print(GloveEmbeddings.shape)\n",
        "GloveEmbeddings[vocab_5k['UNK']]"
      ],
      "execution_count": 161,
      "outputs": [
        {
          "output_type": "stream",
          "name": "stdout",
          "text": [
            "(5001, 300)\n"
          ]
        },
        {
          "output_type": "execute_result",
          "data": {
            "text/plain": [
              "array([0., 0., 0., 0., 0., 0., 0., 0., 0., 0., 0., 0., 0., 0., 0., 0., 0.,\n",
              "       0., 0., 0., 0., 0., 0., 0., 0., 0., 0., 0., 0., 0., 0., 0., 0., 0.,\n",
              "       0., 0., 0., 0., 0., 0., 0., 0., 0., 0., 0., 0., 0., 0., 0., 0., 0.,\n",
              "       0., 0., 0., 0., 0., 0., 0., 0., 0., 0., 0., 0., 0., 0., 0., 0., 0.,\n",
              "       0., 0., 0., 0., 0., 0., 0., 0., 0., 0., 0., 0., 0., 0., 0., 0., 0.,\n",
              "       0., 0., 0., 0., 0., 0., 0., 0., 0., 0., 0., 0., 0., 0., 0., 0., 0.,\n",
              "       0., 0., 0., 0., 0., 0., 0., 0., 0., 0., 0., 0., 0., 0., 0., 0., 0.,\n",
              "       0., 0., 0., 0., 0., 0., 0., 0., 0., 0., 0., 0., 0., 0., 0., 0., 0.,\n",
              "       0., 0., 0., 0., 0., 0., 0., 0., 0., 0., 0., 0., 0., 0., 0., 0., 0.,\n",
              "       0., 0., 0., 0., 0., 0., 0., 0., 0., 0., 0., 0., 0., 0., 0., 0., 0.,\n",
              "       0., 0., 0., 0., 0., 0., 0., 0., 0., 0., 0., 0., 0., 0., 0., 0., 0.,\n",
              "       0., 0., 0., 0., 0., 0., 0., 0., 0., 0., 0., 0., 0., 0., 0., 0., 0.,\n",
              "       0., 0., 0., 0., 0., 0., 0., 0., 0., 0., 0., 0., 0., 0., 0., 0., 0.,\n",
              "       0., 0., 0., 0., 0., 0., 0., 0., 0., 0., 0., 0., 0., 0., 0., 0., 0.,\n",
              "       0., 0., 0., 0., 0., 0., 0., 0., 0., 0., 0., 0., 0., 0., 0., 0., 0.,\n",
              "       0., 0., 0., 0., 0., 0., 0., 0., 0., 0., 0., 0., 0., 0., 0., 0., 0.,\n",
              "       0., 0., 0., 0., 0., 0., 0., 0., 0., 0., 0., 0., 0., 0., 0., 0., 0.,\n",
              "       0., 0., 0., 0., 0., 0., 0., 0., 0., 0., 0.])"
            ]
          },
          "metadata": {},
          "execution_count": 161
        }
      ]
    },
    {
      "cell_type": "markdown",
      "metadata": {
        "id": "5f5f3503"
      },
      "source": [
        "### Application to sentiment analysis\n",
        "\n",
        "We will now use these representations for sentiment analysis. \n",
        "The basic model, as before, will be constructed in two steps:\n",
        "- A function to obtain vector representations of criticism, from text, vocabulary, and vector representations of words. Such a function (to be completed below) will associate to each word of a review its embeddings, and create the representation for the whole sentence by summing these embeddings.\n",
        "- A classifier will take these representations as input and make a prediction. To achieve this, we can first use logistic regression ```LogisticRegression``` from ```scikit-learn```  "
      ]
    },
    {
      "cell_type": "code",
      "metadata": {
        "id": "4c063e71"
      },
      "source": [
        "def sentence_representations(texts, vocabulary, embeddings, np_func=np.sum):\n",
        "    \"\"\"\n",
        "    Represent the sentences as a combination of the vector of its words.\n",
        "    Parameters\n",
        "    ----------\n",
        "    texts : a list of sentences   \n",
        "    vocabulary : dict\n",
        "        From words to indexes of vector.\n",
        "    embeddings : Matrix containing word representations\n",
        "    np_func : function (default: np.sum)\n",
        "        A numpy matrix operation that can be applied columnwise, \n",
        "        like `np.mean`, `np.sum`, or `np.prod`. \n",
        "    Returns\n",
        "    -------\n",
        "    np.array, dimension `(len(texts), embeddings.shape[1])`            \n",
        "    \"\"\"\n",
        "    #\n",
        "    sent_embed = []\n",
        "    for sent in texts:\n",
        "        sent = word_tokenize(sent)\n",
        "        word_embeddings = []\n",
        "\n",
        "        for word in sent:\n",
        "            word_ind = vocabulary.get(word , vocabulary[\"UNK\"])\n",
        "            word_embeddings.append(embeddings[word_ind])\n",
        "            \n",
        "        sent_embed.append(\n",
        "            np_func(\n",
        "                np.vstack(word_embeddings),\n",
        "                axis=0))\n",
        "        \n",
        "    representations = np.vstack(sent_embed)\n",
        "    # \n",
        "    return representations"
      ],
      "execution_count": 162,
      "outputs": []
    },
    {
      "cell_type": "code",
      "metadata": {
        "id": "50947646"
      },
      "source": [
        "train_rep = sentence_representations(train_texts_splt, vocab_5k, GloveEmbeddings,np_func=np.mean)\n",
        "val_rep = sentence_representations(val_texts, vocab_5k, GloveEmbeddings,np_func=np.mean)"
      ],
      "execution_count": 163,
      "outputs": []
    },
    {
      "cell_type": "code",
      "metadata": {
        "id": "341771ed"
      },
      "source": [
        "from sklearn.linear_model import LogisticRegression"
      ],
      "execution_count": 164,
      "outputs": []
    },
    {
      "cell_type": "code",
      "metadata": {
        "id": "a1cc6fac",
        "colab": {
          "base_uri": "https://localhost:8080/",
          "height": 443
        },
        "outputId": "65e9ebc8-6b1a-4218-b69d-9707de285e0f"
      },
      "source": [
        "# Fit the classifier on the transformed training data and test it on the transformed validation data\n",
        "LR = LogisticRegression(solver='liblinear')\n",
        "LR.fit(train_rep , train_labels_splt)\n",
        "y_pred = LR.predict(val_rep)\n",
        "cm = confusion_matrix(val_labels, y_pred)\n",
        "disp = ConfusionMatrixDisplay(confusion_matrix = cm,display_labels=LR.classes_)\n",
        "disp.plot()\n",
        "plt.show()\n",
        "print(classification_report(val_labels, y_pred, target_names=['negative','positive']))"
      ],
      "execution_count": 165,
      "outputs": [
        {
          "output_type": "display_data",
          "data": {
            "image/png": "[encoded data removed]",
            "text/plain": [
              "<Figure size 432x288 with 2 Axes>"
            ]
          },
          "metadata": {
            "needs_background": "light"
          }
        },
        {
          "output_type": "stream",
          "name": "stdout",
          "text": [
            "              precision    recall  f1-score   support\n",
            "\n",
            "    negative       0.81      0.61      0.69        28\n",
            "    positive       0.62      0.82      0.71        22\n",
            "\n",
            "    accuracy                           0.70        50\n",
            "   macro avg       0.72      0.71      0.70        50\n",
            "weighted avg       0.73      0.70      0.70        50\n",
            "\n"
          ]
        }
      ]
    },
    {
      "cell_type": "markdown",
      "metadata": {
        "id": "e3fc1e71"
      },
      "source": [
        "You can know compare the various sets of embeddings, and answer the following questions:\n",
        "- Why could we expect that the results obtained with embeddings pre-trained with Glove are better than others ? Is that verified ? And what changes if we remove the constraint of having the same 5000 words vocabulary as the other methods ? \n",
        "- Which matrix that we can reduce the dimension of gives the best results ? "
      ]
    },
    {
      "cell_type": "markdown",
      "metadata": {
        "id": "CuIRq5QAmEZs"
      },
      "source": [
        "## Question 1:"
      ]
    },
    {
      "cell_type": "markdown",
      "metadata": {
        "id": "9mBkXrzYmEZs"
      },
      "source": [
        "Embeddings pre-retrained with Glove are expected to yield better results because on one hand, the embeddings of Glove are trained on larger dataset (wikipedia dataset) that is very large compared to the corpus on which other embeddings are trained. On the other hand, word2vec for example doesn't have a global information about words. It's restricted to a certain window. Wheras Glove embeddings learns word representations such that their dot product approximates their PMI value.\n",
        "\n",
        "\n",
        "To verify this asumption we train a LogisticRegression model on the different representations as shown down and we can compare the performances of the different models and see whether the model trained on Glove embeddings overtakes over the other representations. We found out that Word2Vec gives better results than Gloves in terms of average accuracy. However, the results may slightly depend on the train/validation split.\n",
        "\n"
      ]
    },
    {
      "cell_type": "markdown",
      "metadata": {
        "id": "gni7InesmEZs"
      },
      "source": [
        "### SVD of co-occurence matrix"
      ]
    },
    {
      "cell_type": "code",
      "metadata": {
        "id": "wdKxAsqkmEZs"
      },
      "source": [
        "train_rep_svd = sentence_representations(train_texts_splt, vocab_5k, SVDEmbeddings,np_func=np.mean)\n",
        "val_rep_svd = sentence_representations(val_texts, vocab_5k, SVDEmbeddings,np_func=np.mean)"
      ],
      "execution_count": 177,
      "outputs": []
    },
    {
      "cell_type": "code",
      "metadata": {
        "id": "KJlqjsWsmEZs",
        "colab": {
          "base_uri": "https://localhost:8080/",
          "height": 438
        },
        "outputId": "55436e26-b50c-45e1-b510-144116bf2d6b"
      },
      "source": [
        "# Fit the classifier on the transformed training data and test it on the transformed validation data\n",
        "LR = LogisticRegression(max_iter=200,solver='liblinear')\n",
        "LR.fit(train_rep_svd , train_labels_splt)\n",
        "y_pred = LR.predict(val_rep_svd)\n",
        "cm = confusion_matrix(val_labels, y_pred)\n",
        "disp = ConfusionMatrixDisplay(confusion_matrix = cm,display_labels=LR.classes_)\n",
        "disp.plot()\n",
        "plt.show()\n",
        "print(classification_report(val_labels, y_pred, target_names=['negative','positive']))"
      ],
      "execution_count": 178,
      "outputs": [
        {
          "output_type": "display_data",
          "data": {
            "image/png": "[encoded data removed]",
            "text/plain": [
              "<Figure size 432x288 with 2 Axes>"
            ]
          },
          "metadata": {
            "needs_background": "light"
          }
        },
        {
          "output_type": "stream",
          "name": "stdout",
          "text": [
            "              precision    recall  f1-score   support\n",
            "\n",
            "    negative       0.75      0.75      0.75        28\n",
            "    positive       0.68      0.68      0.68        22\n",
            "\n",
            "    accuracy                           0.72        50\n",
            "   macro avg       0.72      0.72      0.72        50\n",
            "weighted avg       0.72      0.72      0.72        50\n",
            "\n"
          ]
        }
      ]
    },
    {
      "cell_type": "markdown",
      "metadata": {
        "id": "-EkIywWGmEZt"
      },
      "source": [
        "## Word2Vec"
      ]
    },
    {
      "cell_type": "code",
      "metadata": {
        "id": "1k5mOY7mmEZt"
      },
      "source": [
        "train_rep_w2v = sentence_representations(train_texts_splt, vocab_5k, W2VEmbeddings,np_func=np.mean)\n",
        "val_rep_w2v = sentence_representations(val_texts, vocab_5k, W2VEmbeddings,np_func=np.mean)"
      ],
      "execution_count": 168,
      "outputs": []
    },
    {
      "cell_type": "code",
      "metadata": {
        "id": "IAn8FXzAmEZt",
        "colab": {
          "base_uri": "https://localhost:8080/",
          "height": 438
        },
        "outputId": "7a4c2ba1-670f-48a1-ef55-eeb4d0e65088"
      },
      "source": [
        "# Fit the classifier on the transformed training data and test it on the transformed validation data\n",
        "LR = LogisticRegression(solver='liblinear')\n",
        "LR.fit(train_rep_w2v , train_labels_splt)\n",
        "y_pred = LR.predict(val_rep_w2v)\n",
        "cm = confusion_matrix(val_labels, y_pred)\n",
        "disp = ConfusionMatrixDisplay(confusion_matrix = cm,display_labels=LR.classes_)\n",
        "disp.plot()\n",
        "plt.show()\n",
        "print(classification_report(val_labels, y_pred, target_names=['negative','positive']))"
      ],
      "execution_count": 169,
      "outputs": [
        {
          "output_type": "display_data",
          "data": {
            "image/png": "[encoded data removed]",
            "text/plain": [
              "<Figure size 432x288 with 2 Axes>"
            ]
          },
          "metadata": {
            "needs_background": "light"
          }
        },
        {
          "output_type": "stream",
          "name": "stdout",
          "text": [
            "              precision    recall  f1-score   support\n",
            "\n",
            "    negative       0.88      0.75      0.81        28\n",
            "    positive       0.73      0.86      0.79        22\n",
            "\n",
            "    accuracy                           0.80        50\n",
            "   macro avg       0.80      0.81      0.80        50\n",
            "weighted avg       0.81      0.80      0.80        50\n",
            "\n"
          ]
        }
      ]
    },
    {
      "cell_type": "markdown",
      "metadata": {
        "id": "nT-5j3ThmEZt"
      },
      "source": [
        "## Working with all Glove vocabulary"
      ]
    },
    {
      "cell_type": "markdown",
      "metadata": {
        "id": "NOTmBM-dmEZt"
      },
      "source": [
        "If we remove the constraint of 5000 words vocabulary, we can expect an increase in the sentence embeddings quality. In fact when using all the GLOVE vocabualry, we will include more words emebddings when calculating the sum/average."
      ]
    },
    {
      "cell_type": "code",
      "metadata": {
        "id": "1Mn0Wl8AmEZu"
      },
      "source": [
        "# we add a row of zero to take into account the UNK embedding\n",
        "loaded_glove_embeddings_w_unk = np.vstack([loaded_glove_embeddings,np.zeros((1,loaded_glove_embeddings.shape[1]))])\n",
        "glove_word2idx = {word : index for index,word in enumerate(loaded_glove_model.index2word)}\n",
        "glove_word2idx['UNK'] = len(glove_word2idx )"
      ],
      "execution_count": 181,
      "outputs": []
    },
    {
      "cell_type": "code",
      "metadata": {
        "id": "LV81gwIUmEZu"
      },
      "source": [
        "train_rep = sentence_representations(train_texts_splt, glove_word2idx, loaded_glove_embeddings_w_unk,np_func=np.mean)\n",
        "val_rep = sentence_representations(val_texts, glove_word2idx, loaded_glove_embeddings_w_unk,np_func=np.mean)"
      ],
      "execution_count": 182,
      "outputs": []
    },
    {
      "cell_type": "code",
      "metadata": {
        "id": "fv1o5VuOmEZu",
        "colab": {
          "base_uri": "https://localhost:8080/",
          "height": 443
        },
        "outputId": "eead75b5-5809-4382-da83-9a56524bd5a3"
      },
      "source": [
        "# Fit the classifier on the transformed training data and test it on the transformed validation data\n",
        "LR = LogisticRegression(solver='liblinear')\n",
        "LR.fit(train_rep , train_labels_splt)\n",
        "y_pred = LR.predict(val_rep)\n",
        "cm = confusion_matrix(val_labels, y_pred)\n",
        "disp = ConfusionMatrixDisplay(confusion_matrix = cm,display_labels=LR.classes_)\n",
        "disp.plot()\n",
        "plt.show()\n",
        "print(classification_report(val_labels, y_pred, target_names=['negative','positive']))"
      ],
      "execution_count": 180,
      "outputs": [
        {
          "output_type": "display_data",
          "data": {
            "image/png": "[encoded data removed]",
            "text/plain": [
              "<Figure size 432x288 with 2 Axes>"
            ]
          },
          "metadata": {
            "needs_background": "light"
          }
        },
        {
          "output_type": "stream",
          "name": "stdout",
          "text": [
            "              precision    recall  f1-score   support\n",
            "\n",
            "    negative       0.81      0.61      0.69        28\n",
            "    positive       0.62      0.82      0.71        22\n",
            "\n",
            "    accuracy                           0.70        50\n",
            "   macro avg       0.72      0.71      0.70        50\n",
            "weighted avg       0.73      0.70      0.70        50\n",
            "\n"
          ]
        }
      ]
    },
    {
      "cell_type": "markdown",
      "metadata": {
        "id": "aPrGSVn1mEZu"
      },
      "source": [
        "## Question 2"
      ]
    },
    {
      "cell_type": "markdown",
      "metadata": {
        "id": "WaML7hc-mEZu"
      },
      "source": [
        "We can use the PMI matrix to reduce its dimension with SVD and check the obtained results with this representation. In the following code we tested the two matrices PPMI5 and PPMI20. Their dimensionality reduction has shown better results with higher metric values."
      ]
    },
    {
      "cell_type": "code",
      "metadata": {
        "id": "Xfqpo9wKmEZu",
        "colab": {
          "base_uri": "https://localhost:8080/"
        },
        "outputId": "c8eada04-d7f9-48bb-e661-e5d22f13e5d1"
      },
      "source": [
        "svd = TruncatedSVD(n_components=300)\n",
        "SVDEmbeddings_PPMI5 = svd.fit_transform(PPMI5)\n",
        "print(SVDEmbeddings_PPMI5.shape)\n",
        "# We can have a first look at the embedding quality given \n",
        "# by this method by doing a KNN search for the word good\n",
        "print_neighbors(euclidean, vocab_5k, SVDEmbeddings_PPMI5, 'good')\n",
        "print_neighbors(cosine, vocab_5k, SVDEmbeddings_PPMI5, 'good')"
      ],
      "execution_count": 171,
      "outputs": [
        {
          "output_type": "stream",
          "name": "stdout",
          "text": [
            "(5001, 300)\n",
            "Plus proches voisins de good selon la distance 'euclidean': \n",
            "[['bad', 'good.', 'decent', 'great', 'bad.', 'OK', 'okay', 'funny.', 'better']]\n",
            "Plus proches voisins de good selon la distance 'cosine': \n",
            "[['decent', 'great', 'bad', 'fine', 'nice', 'excellent', 'solid', 'interesting', 'wonderful']]\n"
          ]
        }
      ]
    },
    {
      "cell_type": "code",
      "metadata": {
        "id": "1jX0ALNnmEZu"
      },
      "source": [
        "train_rep_ppmi5 = sentence_representations(train_texts_splt, vocab_5k, SVDEmbeddings_PPMI5,np_func=np.mean)\n",
        "val_rep_ppmi5 = sentence_representations(val_texts, vocab_5k, SVDEmbeddings_PPMI5,np_func=np.mean)"
      ],
      "execution_count": 172,
      "outputs": []
    },
    {
      "cell_type": "code",
      "metadata": {
        "id": "EetRZWP6mEZu",
        "colab": {
          "base_uri": "https://localhost:8080/",
          "height": 438
        },
        "outputId": "32f0b94d-8176-4376-97ef-4f3d14c3ee2f"
      },
      "source": [
        "# Fit the classifier on the transformed training data and test it on the transformed validation data\n",
        "LR = LogisticRegression(solver='liblinear')\n",
        "LR.fit(train_rep_ppmi5 , train_labels_splt)\n",
        "y_pred = LR.predict(val_rep_ppmi5)\n",
        "cm = confusion_matrix(val_labels, y_pred)\n",
        "disp = ConfusionMatrixDisplay(confusion_matrix = cm,display_labels=LR.classes_)\n",
        "disp.plot()\n",
        "plt.show()\n",
        "print(classification_report(val_labels, y_pred, target_names=['negative','positive']))"
      ],
      "execution_count": 173,
      "outputs": [
        {
          "output_type": "display_data",
          "data": {
            "image/png": "[encoded data removed]",
            "text/plain": [
              "<Figure size 432x288 with 2 Axes>"
            ]
          },
          "metadata": {
            "needs_background": "light"
          }
        },
        {
          "output_type": "stream",
          "name": "stdout",
          "text": [
            "              precision    recall  f1-score   support\n",
            "\n",
            "    negative       0.88      0.75      0.81        28\n",
            "    positive       0.73      0.86      0.79        22\n",
            "\n",
            "    accuracy                           0.80        50\n",
            "   macro avg       0.80      0.81      0.80        50\n",
            "weighted avg       0.81      0.80      0.80        50\n",
            "\n"
          ]
        }
      ]
    },
    {
      "cell_type": "code",
      "metadata": {
        "id": "vRpA_v01mEZv",
        "colab": {
          "base_uri": "https://localhost:8080/"
        },
        "outputId": "3586e356-015f-44ba-ab5d-e5e6bf59eb05"
      },
      "source": [
        "svd = TruncatedSVD(n_components=300)\n",
        "SVDEmbeddings_PPMI20 = svd.fit_transform(PPMI20)\n",
        "print(SVDEmbeddings_PPMI20.shape)\n",
        "\n",
        "print_neighbors(euclidean, vocab_5k, SVDEmbeddings_PPMI20, 'good')\n",
        "print_neighbors(cosine, vocab_5k, SVDEmbeddings_PPMI20, 'good')"
      ],
      "execution_count": 174,
      "outputs": [
        {
          "output_type": "stream",
          "name": "stdout",
          "text": [
            "(5001, 300)\n",
            "Plus proches voisins de good selon la distance 'euclidean': \n",
            "[['but', '.', 'really', 'is', ',', 'much', 'all', 'But', 'It']]\n",
            "Plus proches voisins de good selon la distance 'cosine': \n",
            "[['pretty', 'decent', '.', 'really', 'entertaining', 'great', 'but', 'very', 'OK']]\n"
          ]
        }
      ]
    },
    {
      "cell_type": "code",
      "metadata": {
        "id": "UpVIbpmWmEZv"
      },
      "source": [
        "train_rep_ppmi20 = sentence_representations(train_texts_splt, vocab_5k, SVDEmbeddings_PPMI20,np_func=np.mean)\n",
        "val_rep_ppmi20 = sentence_representations(val_texts, vocab_5k, SVDEmbeddings_PPMI20,np_func=np.mean)"
      ],
      "execution_count": 175,
      "outputs": []
    },
    {
      "cell_type": "code",
      "metadata": {
        "id": "EyiSvSi_mEZv",
        "colab": {
          "base_uri": "https://localhost:8080/",
          "height": 438
        },
        "outputId": "f892d101-c4d6-45b8-c5f3-9958c9387aad"
      },
      "source": [
        "# Fit the classifier on the transformed training data and test it on the transformed validation data\n",
        "LR = LogisticRegression(solver='liblinear')\n",
        "LR.fit(train_rep_ppmi20 , train_labels_splt)\n",
        "y_pred = LR.predict(val_rep_ppmi20)\n",
        "cm = confusion_matrix(val_labels, y_pred)\n",
        "disp = ConfusionMatrixDisplay(confusion_matrix = cm,display_labels=LR.classes_)\n",
        "disp.plot()\n",
        "plt.show()\n",
        "print(classification_report(val_labels, y_pred, target_names=['negative','positive']))"
      ],
      "execution_count": 176,
      "outputs": [
        {
          "output_type": "display_data",
          "data": {
            "image/png": "[encoded data removed]",
            "text/plain": [
              "<Figure size 432x288 with 2 Axes>"
            ]
          },
          "metadata": {
            "needs_background": "light"
          }
        },
        {
          "output_type": "stream",
          "name": "stdout",
          "text": [
            "              precision    recall  f1-score   support\n",
            "\n",
            "    negative       0.96      0.82      0.88        28\n",
            "    positive       0.81      0.95      0.88        22\n",
            "\n",
            "    accuracy                           0.88        50\n",
            "   macro avg       0.88      0.89      0.88        50\n",
            "weighted avg       0.89      0.88      0.88        50\n",
            "\n"
          ]
        }
      ]
    }
  ]
}