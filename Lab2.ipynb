{
 "cells": [
  {
   "cell_type": "markdown",
   "metadata": {
    "id": "JfkpXKBIthcS"
   },
   "source": [
    "# Text classification with Pytorch\n",
    "\n",
    "The goal of this TP is double: an introduction to using Pytorch for treating textual data, and implementing neural classification models that we can apply to IMDB data - and then compare to models implemented in the previous TPs. "
   ]
  },
  {
   "cell_type": "code",
   "execution_count": 1,
   "metadata": {
    "execution": {
     "iopub.execute_input": "2021-11-12T00:20:45.073316Z",
     "iopub.status.busy": "2021-11-12T00:20:45.072630Z",
     "iopub.status.idle": "2021-11-12T00:20:45.078691Z",
     "shell.execute_reply": "2021-11-12T00:20:45.077752Z",
     "shell.execute_reply.started": "2021-11-12T00:20:45.073269Z"
    },
    "id": "FH7c_eMyte-D"
   },
   "outputs": [],
   "source": [
    "import torch\n",
    "import torch.nn as nn"
   ]
  },
  {
   "cell_type": "markdown",
   "metadata": {
    "id": "TG1Tv5TLtpjP"
   },
   "source": [
    "### A (very small) introduction to pytorch\n",
    "\n",
    "Pytorch Tensors are very similar to Numpy arrays, with the added benefit of being usable on GPU. For a short tutorial on various methods to create tensors of particular types, see [this link](https://pytorch.org/tutorials/beginner/blitz/tensor_tutorial.html#sphx-glr-beginner-blitz-tensor-tutorial-py).\n",
    "The important things to note are that Tensors can be created empty, from lists, and it is very easy to convert a numpy array into a pytorch tensor, and inversely."
   ]
  },
  {
   "cell_type": "code",
   "execution_count": 2,
   "metadata": {
    "colab": {
     "base_uri": "https://localhost:8080/"
    },
    "id": "Mb3h3-OEtuHz",
    "outputId": "410ab156-e0e7-4fa4-98f6-4cbe1168959e"
   },
   "outputs": [
    {
     "name": "stdout",
     "output_type": "stream",
     "text": [
      "tensor([     94021212042816,                  27,      94025424044031,\n",
      "        4908972153413002606, 7214836307739637349])\n",
      "tensor([5])\n"
     ]
    }
   ],
   "source": [
    "a = torch.LongTensor(5)\n",
    "b = torch.LongTensor([5])\n",
    "\n",
    "print(a)\n",
    "print(b)"
   ]
  },
  {
   "cell_type": "code",
   "execution_count": 3,
   "metadata": {
    "colab": {
     "base_uri": "https://localhost:8080/"
    },
    "id": "EohavgcYtv6f",
    "outputId": "331e95de-74af-4aaa-9e12-b9e72f96cde2"
   },
   "outputs": [
    {
     "name": "stdout",
     "output_type": "stream",
     "text": [
      "tensor([5.])\n"
     ]
    }
   ],
   "source": [
    "a = torch.FloatTensor([2])\n",
    "b = torch.FloatTensor([3])\n",
    "\n",
    "print(a + b)"
   ]
  },
  {
   "cell_type": "markdown",
   "metadata": {
    "id": "AJ7gaHMpt0fV"
   },
   "source": [
    "The main interest in us using Pytorch is the ```autograd``` package. ```torch.Tensor```objects have an attribute ```.requires_grad```; if set as True, it starts to track all operations on it. When you finish your computation, can call ```.backward()``` and all the gradients are computed automatically (and stored in the ```.grad``` attribute).\n",
    "\n",
    "One way to easily cut a tensor from the computational once it is not needed anymore is to use ```.detach()```.\n",
    "More info on automatic differentiation in pytorch on [this link](https://pytorch.org/tutorials/beginner/blitz/autograd_tutorial.html#sphx-glr-beginner-blitz-autograd-tutorial-py).\n"
   ]
  },
  {
   "cell_type": "code",
   "execution_count": 4,
   "metadata": {
    "colab": {
     "base_uri": "https://localhost:8080/"
    },
    "id": "DGHcybvEty-E",
    "outputId": "f360eaf0-e194-4888-8876-3ef94df978f6"
   },
   "outputs": [
    {
     "name": "stdout",
     "output_type": "stream",
     "text": [
      "tensor(2.)\n",
      "tensor(1.)\n",
      "tensor(1.)\n"
     ]
    }
   ],
   "source": [
    "x = torch.tensor(1., requires_grad=True)\n",
    "w = torch.tensor(2., requires_grad=True)\n",
    "b = torch.tensor(3., requires_grad=True)\n",
    "\n",
    "# Build a computational graph.\n",
    "y = w * x + b    # y = 2 * x + 3\n",
    "\n",
    "# Compute gradients.\n",
    "y.backward()\n",
    "\n",
    "# Print out the gradients.\n",
    "print(x.grad)    # x.grad = 2 \n",
    "print(w.grad)    # w.grad = 1 \n",
    "print(b.grad)    # b.grad = 1 "
   ]
  },
  {
   "cell_type": "code",
   "execution_count": 5,
   "metadata": {
    "colab": {
     "base_uri": "https://localhost:8080/"
    },
    "id": "6b2WNPUetzA-",
    "outputId": "1fc8ad8b-77be-4850-cc8d-2fc82417affb"
   },
   "outputs": [
    {
     "name": "stdout",
     "output_type": "stream",
     "text": [
      "weight\n",
      "Parameter containing:\n",
      "tensor([[ 0.0927,  0.1899, -0.4970],\n",
      "        [-0.3155,  0.4248, -0.2154]], requires_grad=True)\n",
      "bias\n",
      "Parameter containing:\n",
      "tensor([ 0.4823, -0.2296], requires_grad=True)\n",
      "Initial loss:  1.0037941932678223\n",
      "dL/dw:  tensor([[ 0.4418,  0.0217, -0.4700],\n",
      "        [ 0.0627,  0.4765, -0.4251]])\n",
      "dL/db:  tensor([ 0.4274, -0.4666])\n"
     ]
    }
   ],
   "source": [
    "x = torch.randn(10, 3)\n",
    "y = torch.randn(10, 2)\n",
    "\n",
    "# Build a fully connected layer.\n",
    "linear = nn.Linear(3, 2)\n",
    "for name, p in linear.named_parameters():\n",
    "    print(name)\n",
    "    print(p)\n",
    "\n",
    "# Build loss function - Mean Square Error\n",
    "criterion = nn.MSELoss()\n",
    "\n",
    "# Forward pass.\n",
    "pred = linear(x)\n",
    "\n",
    "# Compute loss.\n",
    "loss = criterion(pred, y)\n",
    "print('Initial loss: ', loss.item())\n",
    "\n",
    "# Backward pass.\n",
    "loss.backward()\n",
    "\n",
    "# Print out the gradients.\n",
    "print ('dL/dw: ', linear.weight.grad) \n",
    "print ('dL/db: ', linear.bias.grad)"
   ]
  },
  {
   "cell_type": "code",
   "execution_count": 6,
   "metadata": {
    "colab": {
     "base_uri": "https://localhost:8080/"
    },
    "id": "aCZynIQFtzD0",
    "outputId": "0c9cd214-2b5c-4f7d-f37d-218288bfb71a"
   },
   "outputs": [
    {
     "name": "stdout",
     "output_type": "stream",
     "text": [
      "Loss after one update:  0.9915840029716492\n"
     ]
    }
   ],
   "source": [
    "# You can perform gradient descent manually, with an in-place update ...\n",
    "linear.weight.data.sub_(0.01 * linear.weight.grad.data)\n",
    "linear.bias.data.sub_(0.01 * linear.bias.grad.data)\n",
    "\n",
    "# Print out the loss after 1-step gradient descent.\n",
    "pred = linear(x)\n",
    "loss = criterion(pred, y)\n",
    "print('Loss after one update: ', loss.item())"
   ]
  },
  {
   "cell_type": "code",
   "execution_count": 7,
   "metadata": {
    "colab": {
     "base_uri": "https://localhost:8080/"
    },
    "id": "RXaI-9Z9tzGt",
    "outputId": "954c5d70-ffe1-40bc-bf47-587a91d67353"
   },
   "outputs": [
    {
     "name": "stdout",
     "output_type": "stream",
     "text": [
      "Loss after two updates:  0.9796740412712097\n"
     ]
    }
   ],
   "source": [
    "# Use the optim package to define an Optimizer that will update the weights of the model.\n",
    "optimizer = torch.optim.SGD(linear.parameters(), lr=0.01)\n",
    "\n",
    "# By default, gradients are accumulated in buffers( i.e, not overwritten) whenever .backward()\n",
    "# is called. Before the backward pass, we need to use the optimizer object to zero all of the\n",
    "# gradients.\n",
    "optimizer.zero_grad()\n",
    "loss.backward()\n",
    "\n",
    "# Calling the step function on an Optimizer makes an update to its parameters\n",
    "optimizer.step()\n",
    "\n",
    "# Print out the loss after the second step of gradient descent.\n",
    "pred = linear(x)\n",
    "loss = criterion(pred, y)\n",
    "print('Loss after two updates: ', loss.item())"
   ]
  },
  {
   "cell_type": "markdown",
   "metadata": {
    "id": "xjcyC09ct9Nn"
   },
   "source": [
    "### Tools for data processing \n",
    "\n",
    "```torch.utils.data.Dataset``` is an abstract class representing a dataset. Your custom dataset should inherit ```Dataset``` and override the following methods:\n",
    "- ```__len__``` so that ```len(dataset)``` returns the size of the dataset.\n",
    "- ```__getitem__``` to support the indexing such that ```dataset[i]``` can be used to get the i-th sample\n",
    "\n",
    "Here is a toy example: "
   ]
  },
  {
   "cell_type": "code",
   "execution_count": 8,
   "metadata": {
    "id": "OAZi4yvpuAyG"
   },
   "outputs": [],
   "source": [
    "toy_corpus = ['I walked down down the boulevard',\n",
    "              'I walked down the avenue',\n",
    "              'I ran down the boulevard',\n",
    "              'I walk down the city',\n",
    "              'I walk down the the avenue']\n",
    "\n",
    "toy_categories = [0, 0, 1, 0, 0]"
   ]
  },
  {
   "cell_type": "code",
   "execution_count": 9,
   "metadata": {
    "execution": {
     "iopub.execute_input": "2021-11-12T00:26:22.100494Z",
     "iopub.status.busy": "2021-11-12T00:26:22.099636Z",
     "iopub.status.idle": "2021-11-12T00:26:22.108268Z",
     "shell.execute_reply": "2021-11-12T00:26:22.107215Z",
     "shell.execute_reply.started": "2021-11-12T00:26:22.100451Z"
    },
    "id": "I0s6D6VOuCNc"
   },
   "outputs": [],
   "source": [
    "from torch.utils.data import Dataset, DataLoader\n",
    "\n",
    "class CustomDataset(Dataset):\n",
    "    # A pytorch dataset class for holding data for a text classification task.\n",
    "    def __init__(self, data, categories):\n",
    "        # Upon creating the Dataset object, store the data in an attribute\n",
    "        # Split the text data and labels from each other\n",
    "        self.X, self.Y = [], []\n",
    "        for x, y in zip(data, categories):\n",
    "            # We will propably need to preprocess the data - have it done in a separate method\n",
    "            # We do it here because we might need corpus-wide info to do the preprocessing \n",
    "            # For example, cutting all examples to the same length\n",
    "            self.X.append(self.preprocess(x))\n",
    "            self.Y.append(y)\n",
    "                \n",
    "    # Method allowing you to preprocess data                      \n",
    "    def preprocess(self, text):\n",
    "        text_pp = text.lower().strip()\n",
    "        return text_pp\n",
    "    \n",
    "    # Overriding the method __len__ so that len(CustomDatasetName) returns the number of data samples                     \n",
    "    def __len__(self):\n",
    "        return len(self.Y)\n",
    "   \n",
    "    # Overriding the method __getitem__ so that CustomDatasetName[i] returns the i-th sample of the dataset                      \n",
    "    def __getitem__(self, idx):\n",
    "           return self.X[idx], self.Y[idx]"
   ]
  },
  {
   "cell_type": "code",
   "execution_count": 10,
   "metadata": {
    "id": "7vVdsIe26mOJ"
   },
   "outputs": [],
   "source": [
    "toy_dataset = CustomDataset(toy_corpus, toy_categories)"
   ]
  },
  {
   "cell_type": "code",
   "execution_count": 11,
   "metadata": {
    "colab": {
     "base_uri": "https://localhost:8080/"
    },
    "id": "pxyTBFp6uGaL",
    "outputId": "0747aacd-afe1-448c-ce82-155ca8ee05da"
   },
   "outputs": [
    {
     "name": "stdout",
     "output_type": "stream",
     "text": [
      "5\n",
      "('i walked down down the boulevard', 0)\n",
      "('i walked down the avenue', 0)\n",
      "('i ran down the boulevard', 1)\n",
      "('i walk down the city', 0)\n",
      "('i walk down the the avenue', 0)\n"
     ]
    }
   ],
   "source": [
    "print(len(toy_dataset))\n",
    "for i in range(len(toy_dataset)):\n",
    "    print(toy_dataset[i])"
   ]
  },
  {
   "cell_type": "markdown",
   "metadata": {
    "id": "BdtlHKpJuKwY"
   },
   "source": [
    "```torch.utils.data.DataLoader``` is what we call an iterator, which provides very useful features:\n",
    "- Batching the data\n",
    "- Shuffling the data\n",
    "- Load the data in parallel using multiprocessing workers.\n",
    "and can be created very simply from a ```Dataset```. Continuing on our simple example: "
   ]
  },
  {
   "cell_type": "code",
   "execution_count": 12,
   "metadata": {
    "id": "WAk7_20auGdJ"
   },
   "outputs": [],
   "source": [
    "toy_dataloader = DataLoader(toy_dataset, batch_size = 2, shuffle = True)"
   ]
  },
  {
   "cell_type": "code",
   "execution_count": 13,
   "metadata": {
    "colab": {
     "base_uri": "https://localhost:8080/"
    },
    "id": "oTvn7nmZuGgE",
    "outputId": "ef1003de-8e4e-43ea-9631-5864aa15c632"
   },
   "outputs": [
    {
     "name": "stdout",
     "output_type": "stream",
     "text": [
      "Epoch:0\n",
      "Batch: ('i walked down the avenue', 'i walk down the city'); labels: tensor([0, 0])\n",
      "Batch: ('i ran down the boulevard', 'i walked down down the boulevard'); labels: tensor([1, 0])\n",
      "Batch: ('i walk down the the avenue',); labels: tensor([0])\n",
      "Epoch:1\n",
      "Batch: ('i ran down the boulevard', 'i walked down down the boulevard'); labels: tensor([1, 0])\n",
      "Batch: ('i walk down the city', 'i walked down the avenue'); labels: tensor([0, 0])\n",
      "Batch: ('i walk down the the avenue',); labels: tensor([0])\n",
      "Epoch:2\n",
      "Batch: ('i walked down down the boulevard', 'i walked down the avenue'); labels: tensor([0, 0])\n",
      "Batch: ('i walk down the the avenue', 'i walk down the city'); labels: tensor([0, 0])\n",
      "Batch: ('i ran down the boulevard',); labels: tensor([1])\n"
     ]
    }
   ],
   "source": [
    "for e in range(3):\n",
    "    print(\"Epoch:\" + str(e))\n",
    "    for x, y in toy_dataloader:\n",
    "        print(\"Batch: \" + str(x) + \"; labels: \" + str(y))  "
   ]
  },
  {
   "cell_type": "markdown",
   "metadata": {
    "id": "7lgbEZpbuQLN"
   },
   "source": [
    "### Data processing of a text dataset\n",
    "\n",
    "Now, we would like to apply what we saw to our case, and **create a specific class** ```TextClassificationDataset``` **inheriting** ```Dataset``` that will:\n",
    "- Create a vocabulary from the data (use what we saw in the previous TP)\n",
    "- Preprocess the data using this vocabulary, adding whatever we need for our pytorch model\n",
    "- Have a ```__getitem__``` method that allows us to use the class with a ```Dataloader``` to easily build batches."
   ]
  },
  {
   "cell_type": "code",
   "execution_count": 14,
   "metadata": {
    "execution": {
     "iopub.execute_input": "2021-11-12T00:17:50.569842Z",
     "iopub.status.busy": "2021-11-12T00:17:50.569062Z",
     "iopub.status.idle": "2021-11-12T00:17:51.529147Z",
     "shell.execute_reply": "2021-11-12T00:17:51.528373Z",
     "shell.execute_reply.started": "2021-11-12T00:17:50.569735Z"
    },
    "id": "LXMyhHSfuGl4"
   },
   "outputs": [],
   "source": [
    "import os\n",
    "import sys\n",
    "import os.path as op\n",
    "from torch.nn import functional as F\n",
    "import numpy as np\n",
    "import random\n",
    "\n",
    "from nltk import word_tokenize\n",
    "from torch.nn.utils.rnn import pad_sequence"
   ]
  },
  {
   "cell_type": "markdown",
   "metadata": {
    "id": "brvWrFAHvfzX"
   },
   "source": [
    "First, we get the filenames and the corresponding categories: "
   ]
  },
  {
   "cell_type": "code",
   "execution_count": 15,
   "metadata": {
    "colab": {
     "base_uri": "https://localhost:8080/"
    },
    "id": "PKzJlHoH6mOL",
    "outputId": "bb1cdf55-be95-4ffb-81b6-27b087cac333"
   },
   "outputs": [
    {
     "name": "stderr",
     "output_type": "stream",
     "text": [
      "Downloading...\n",
      "From: http://ai.stanford.edu/~amaas/data/sentiment/aclImdb_v1.tar.gz\n",
      "To: /content/aclImdb_v1.tar.gz\n",
      "100%|██████████| 84.1M/84.1M [00:02<00:00, 29.0MB/s]\n"
     ]
    }
   ],
   "source": [
    "# For those on google colab: you can download the files directly with this:\n",
    "import gdown\n",
    "gdown.download(\"http://ai.stanford.edu/~amaas/data/sentiment/aclImdb_v1.tar.gz\", output=\"aclImdb_v1.tar.gz\", quiet=False)\n",
    "!tar xzf /content/aclImdb_v1.tar.gz"
   ]
  },
  {
   "cell_type": "code",
   "execution_count": 16,
   "metadata": {
    "execution": {
     "iopub.execute_input": "2021-11-12T00:17:58.720714Z",
     "iopub.status.busy": "2021-11-12T00:17:58.720485Z",
     "iopub.status.idle": "2021-11-12T00:18:52.414992Z",
     "shell.execute_reply": "2021-11-12T00:18:52.414007Z",
     "shell.execute_reply.started": "2021-11-12T00:17:58.720687Z"
    },
    "id": "zWxaPdQjuGrm"
   },
   "outputs": [],
   "source": [
    "from glob import glob\n",
    "# We get the files from the path: ./aclImdb/train/neg for negative reviews, and ./aclImdb/train/pos for positive reviews\n",
    "train_filenames_neg = sorted(glob(op.join('.','aclImdb', 'train', 'neg', '*.txt')))\n",
    "train_filenames_pos = sorted(glob(op.join('.','aclImdb', 'train', 'pos', '*.txt')))\n",
    "\n",
    "test_filenames_neg = sorted(glob(op.join('.','aclImdb', 'test', 'neg', '*.txt')))\n",
    "test_filenames_pos = sorted(glob(op.join('.', 'aclImdb', 'test', 'pos', '*.txt')))\n",
    "\n",
    "# Each files contains a review that consists in one line of text: we put this string in two lists, that we concatenate\n",
    "train_texts_neg = [open(f, encoding=\"utf8\").read() for f in train_filenames_neg]\n",
    "train_texts_pos = [open(f, encoding=\"utf8\").read() for f in train_filenames_pos]\n",
    "train_texts = train_texts_neg + train_texts_pos\n",
    "\n",
    "test_texts_neg = [open(f, encoding=\"utf8\").read() for f in test_filenames_neg]\n",
    "test_texts_pos = [open(f, encoding=\"utf8\").read() for f in test_filenames_pos]\n",
    "test_texts = test_texts_neg + test_texts_pos\n",
    "\n",
    "\n",
    "# The first half of the elements of the list are string of negative reviews, and the second half positive ones\n",
    "# We create the labels, as an array of [1,len(texts)], filled with 1, and change the first half to 0\n",
    "train_labels = np.ones(len(train_texts), dtype=int)\n",
    "train_labels[:len(train_texts_neg)] = 0.\n",
    "\n",
    "\n",
    "test_labels = np.ones(len(test_texts), dtype=np.int)\n",
    "test_labels[:len(test_texts_neg)] = 0."
   ]
  },
  {
   "cell_type": "markdown",
   "metadata": {
    "id": "g2F1biXNv62G"
   },
   "source": [
    "Example of one document:"
   ]
  },
  {
   "cell_type": "code",
   "execution_count": 17,
   "metadata": {
    "colab": {
     "base_uri": "https://localhost:8080/",
     "height": 86
    },
    "id": "2XL0ZBz_uCTX",
    "outputId": "da4226f9-d036-4867-8246-5f1668899535"
   },
   "outputs": [
    {
     "data": {
      "application/vnd.google.colaboratory.intrinsic+json": {
       "type": "string"
      },
      "text/plain": [
       "\"Story of a man who has unnatural feelings for a pig. Starts out with a opening scene that is a terrific example of absurd comedy. A formal orchestra audience is turned into an insane, violent mob by the crazy chantings of it's singers. Unfortunately it stays absurd the WHOLE time with no general narrative eventually making it just too off putting. Even those from the era should be turned off. The cryptic dialogue would make Shakespeare seem easy to a third grader. On a technical level it's better than you might think with some good cinematography by future great Vilmos Zsigmond. Future stars Sally Kirkland and Frederic Forrest can be seen briefly.\""
      ]
     },
     "execution_count": 17,
     "metadata": {},
     "output_type": "execute_result"
    }
   ],
   "source": [
    "open(\"./aclImdb/train/neg/0_3.txt\", encoding=\"utf8\").read()"
   ]
  },
  {
   "cell_type": "markdown",
   "metadata": {
    "id": "Mad2WjyxwIp_"
   },
   "source": [
    "We can use a function from sklearn, ```train_test_split```, to separate data into training and validation sets:\n",
    "\n"
   ]
  },
  {
   "cell_type": "code",
   "execution_count": 18,
   "metadata": {
    "execution": {
     "iopub.execute_input": "2021-11-12T00:18:52.418055Z",
     "iopub.status.busy": "2021-11-12T00:18:52.417525Z",
     "iopub.status.idle": "2021-11-12T00:18:52.423033Z",
     "shell.execute_reply": "2021-11-12T00:18:52.422010Z",
     "shell.execute_reply.started": "2021-11-12T00:18:52.418011Z"
    },
    "id": "5VXYzolvv79h"
   },
   "outputs": [],
   "source": [
    "from sklearn.model_selection import train_test_split"
   ]
  },
  {
   "cell_type": "code",
   "execution_count": 19,
   "metadata": {
    "execution": {
     "iopub.execute_input": "2021-11-12T00:18:52.424801Z",
     "iopub.status.busy": "2021-11-12T00:18:52.424545Z",
     "iopub.status.idle": "2021-11-12T00:18:52.445728Z",
     "shell.execute_reply": "2021-11-12T00:18:52.445060Z",
     "shell.execute_reply.started": "2021-11-12T00:18:52.424765Z"
    },
    "id": "lOZxlsdHwW8s"
   },
   "outputs": [],
   "source": [
    "train_texts_splt, val_texts, train_labels_splt, val_labels = train_test_split(train_texts, train_labels, test_size=.2,random_state=123)"
   ]
  },
  {
   "cell_type": "markdown",
   "metadata": {
    "id": "fTuq86F_w38k"
   },
   "source": [
    "We can now implement our ```TextClassificationDataset``` class, that we will build from:\n",
    "- A list of path to the IMDB files in the training set: ```path_to_file```\n",
    "- A list of the corresponding categories: ```categories```\n",
    "We will add three optional arguments:\n",
    "- First, a way to input a vocabulary (so that we can re-use the training vocabulary on the validation and training ```TextClassificationDataset```). By default, the value of the argument is ```None```.\n",
    "- In order to work with batches, we will need to have sequences of the same size. That can be done via **padding** but we will still need to limit the size of documents (to avoid having batches of huge sequences that are mostly empty because of one very long documents) to a ```max_length```. Let's put it to 100 by default.\n",
    "- Lastly, a ```min_freq``` that indicates how many times a word must appear to be taken in the vocabulary. "
   ]
  },
  {
   "cell_type": "markdown",
   "metadata": {
    "id": "uEv4BW4ow6Qe"
   },
   "source": [
    "The idea behind **padding** is to transform a list of pytorch tensors (of maybe different length) into a two dimensional tensor - which we can see as a batch. The size of the first dimension is the one of the longest tensor - and other are **padded** with a chosen symbol: here, we choose 0. "
   ]
  },
  {
   "cell_type": "code",
   "execution_count": 20,
   "metadata": {
    "id": "5HvjckX8wW_Y"
   },
   "outputs": [],
   "source": [
    "tensor_1 = torch.LongTensor([1, 4, 5])\n",
    "tensor_2 = torch.LongTensor([2])\n",
    "tensor_3 = torch.LongTensor([6, 7])"
   ]
  },
  {
   "cell_type": "code",
   "execution_count": 21,
   "metadata": {
    "colab": {
     "base_uri": "https://localhost:8080/"
    },
    "id": "1TkfZxx6w9E-",
    "outputId": "9de314f7-54be-410a-ac42-88d1c53fedd3"
   },
   "outputs": [
    {
     "name": "stdout",
     "output_type": "stream",
     "text": [
      "tensor([[1, 4, 5],\n",
      "        [2, 0, 0],\n",
      "        [6, 7, 0]])\n"
     ]
    }
   ],
   "source": [
    "tensor_padded = pad_sequence([tensor_1, tensor_2, tensor_3], batch_first=True, padding_value = 0)\n",
    "print(tensor_padded)"
   ]
  },
  {
   "cell_type": "code",
   "execution_count": 22,
   "metadata": {
    "id": "o1n5H6RUw9H2"
   },
   "outputs": [],
   "source": [
    "class TextClassificationDataset(Dataset):\n",
    "    def __init__(self, data, categories, vocab = None, max_length = 100, min_freq = 5):\n",
    "        self.data = data      \n",
    "        # Set the maximum length we will keep for the sequences\n",
    "        self.max_length = max_length\n",
    "        \n",
    "        # Allow to import a vocabulary (for valid/test datasets, that will use the training vocabulary)\n",
    "        if vocab is not None:\n",
    "            self.word2idx, self.idx2word = vocab\n",
    "        else:\n",
    "            # If no vocabulary imported, build it (and reverse)\n",
    "            self.word2idx, self.idx2word = self.build_vocab(self.data, min_freq)\n",
    "        \n",
    "        # We then need to tokenize the data .. \n",
    "        tokenized_data = [word_tokenize(sent) for sent in data] # To complete\n",
    "        # Transform words into lists of indexes ... (use the .get() method to redirect unknown words to the UNK token)\n",
    "        \n",
    "        indexed_data = [ [self.word2idx.get(word,self.word2idx['UNK']) for word in tok_sent] for tok_sent in tokenized_data] # To complete\n",
    "        \n",
    "        # And transform this list of lists into a list of Pytorch LongTensors\n",
    "        tensor_data = [torch.LongTensor(sent) for sent in indexed_data] # To complete\n",
    "        # And the categories into a FloatTensor\n",
    "        tensor_y = torch.FloatTensor(categories) # To complete\n",
    "        # To finally cut it when it's above the maximum length\n",
    "        cut_tensor_data = [tensor[:max_length] for tensor in tensor_data]# To complete\n",
    "        \n",
    "        # Now, we need to use the pad_sequence function to have the whole dataset represented as one tensor,\n",
    "        # containing sequences of the same length. We choose the padding_value to be 0, the we want the\n",
    "        # batch dimension to be the first dimension \n",
    "        self.tensor_data = pad_sequence(cut_tensor_data, batch_first=True, padding_value = 0)# To complete\n",
    "        self.tensor_y = tensor_y\n",
    "        \n",
    "    def __len__(self):\n",
    "        return len(self.data)\n",
    "\n",
    "    def __getitem__(self, idx):\n",
    "        # The iterator just gets one particular example with its category\n",
    "        # The dataloader will take care of the shuffling and batching\n",
    "        if torch.is_tensor(idx):\n",
    "            idx = idx.tolist()\n",
    "        return self.tensor_data[idx], self.tensor_y[idx] \n",
    "    \n",
    "    def build_vocab(self, corpus, count_threshold):\n",
    "        \"\"\"\n",
    "        Same as in the previous TP: we want to output word_index, a dictionary containing words \n",
    "        and their corresponding indexes as {word : indexes} \n",
    "        But we also want the reverse, which is a dictionary {indexes: word}\n",
    "        Don't forget to add a UNK token that we need when encountering unknown words\n",
    "        We also choose '0' to represent the padding index, so begin the vocabulary index at 1 ! \n",
    "        \"\"\"\n",
    "        word_counts = {}\n",
    "        for sentence in corpus:\n",
    "            for word in word_tokenize(sentence):\n",
    "                if word in word_counts:\n",
    "                    word_counts[word]+=1\n",
    "                else:\n",
    "                    word_counts[word]=1\n",
    "  \n",
    "        filtered_word_counts = {k:v for k,v in word_counts.items() if v>=count_threshold}\n",
    "        sorted_words = sorted(filtered_word_counts.keys(),key=filtered_word_counts.get, reverse=True)\n",
    "                    \n",
    "        word_index = {word:i+1 for i,word in enumerate(sorted_words)}\n",
    "        word_index['<PAD>']=0       \n",
    "        word_index['UNK']=len(word_index)\n",
    "            \n",
    "        idx_word={v:k for k,v in word_index.items()}\n",
    "        # To complete\n",
    "        return word_index, idx_word\n",
    "    \n",
    "    def get_vocab(self):\n",
    "        # A simple way to get the training vocab when building the valid/test \n",
    "        return self.word2idx, self.idx2word"
   ]
  },
  {
   "cell_type": "code",
   "execution_count": 23,
   "metadata": {
    "colab": {
     "base_uri": "https://localhost:8080/"
    },
    "execution": {
     "iopub.execute_input": "2021-11-12T00:18:52.448215Z",
     "iopub.status.busy": "2021-11-12T00:18:52.447918Z",
     "iopub.status.idle": "2021-11-12T00:18:52.562427Z",
     "shell.execute_reply": "2021-11-12T00:18:52.561674Z",
     "shell.execute_reply.started": "2021-11-12T00:18:52.448178Z"
    },
    "id": "CM0NsS3DzYmI",
    "outputId": "681321d0-cb00-41f3-a219-64a26b238cb6"
   },
   "outputs": [
    {
     "name": "stdout",
     "output_type": "stream",
     "text": [
      "[nltk_data] Downloading package punkt to /root/nltk_data...\n",
      "[nltk_data]   Package punkt is already up-to-date!\n"
     ]
    },
    {
     "data": {
      "text/plain": [
       "True"
      ]
     },
     "execution_count": 23,
     "metadata": {},
     "output_type": "execute_result"
    }
   ],
   "source": [
    "import nltk\n",
    "nltk.download('punkt')"
   ]
  },
  {
   "cell_type": "code",
   "execution_count": 232,
   "metadata": {
    "id": "QwA5Jxm3w9Kw"
   },
   "outputs": [],
   "source": [
    "training_dataset = TextClassificationDataset(train_texts_splt, train_labels_splt, max_length = 100,min_freq = 5)\n",
    "training_word2idx, training_idx2word = training_dataset.get_vocab()"
   ]
  },
  {
   "cell_type": "code",
   "execution_count": 233,
   "metadata": {
    "id": "HBD-W4fzw9NR"
   },
   "outputs": [],
   "source": [
    "valid_dataset = TextClassificationDataset(val_texts, val_labels, (training_word2idx, training_idx2word))"
   ]
  },
  {
   "cell_type": "code",
   "execution_count": 234,
   "metadata": {
    "id": "n3ei2xd6JnvS"
   },
   "outputs": [],
   "source": [
    "test_dataset = TextClassificationDataset(test_texts, test_labels, (training_word2idx, training_idx2word))"
   ]
  },
  {
   "cell_type": "code",
   "execution_count": 235,
   "metadata": {
    "id": "FvWlJpbRw9Pt"
   },
   "outputs": [],
   "source": [
    "training_dataloader = DataLoader(training_dataset, batch_size = 200, shuffle=True)\n",
    "valid_dataloader = DataLoader(valid_dataset, batch_size = 25)\n",
    "test_dataloader = DataLoader(test_dataset, batch_size = 25)"
   ]
  },
  {
   "cell_type": "code",
   "execution_count": 236,
   "metadata": {
    "colab": {
     "base_uri": "https://localhost:8080/"
    },
    "id": "891JXUwPw9Ux",
    "outputId": "ec5567cd-9f37-4464-a065-909e277c002f"
   },
   "outputs": [
    {
     "name": "stdout",
     "output_type": "stream",
     "text": [
      "torch.Size([200, 100])\n",
      "torch.Size([200])\n"
     ]
    }
   ],
   "source": [
    "example_batch = next(iter(training_dataloader))\n",
    "print(example_batch[0].size()) #training samples of the batch\n",
    "print(example_batch[1].size()) #labels"
   ]
  },
  {
   "cell_type": "markdown",
   "metadata": {
    "id": "7n9XkuTs0GKT"
   },
   "source": [
    "### A simple averaging model\n",
    "\n",
    "Now, we will implement in Pytorch what we did in the previous TP: a simple averaging model. For each model we will implement, we need to create a class which inherits from ```nn.Module``` and redifine the ```__init__``` method as well as the ```forward``` method."
   ]
  },
  {
   "cell_type": "code",
   "execution_count": 252,
   "metadata": {
    "id": "QnGXTsam6mOO"
   },
   "outputs": [],
   "source": [
    "# Models are usually implemented as custom nn.Module subclass\n",
    "# We need to redefine the __init__ method, which creates the object\n",
    "# We also need to redefine the forward method, which transform the input into outputs\n",
    "\n",
    "class AveragingModel(nn.Module):    \n",
    "    def __init__(self, embedding_dim, vocabulary_size):\n",
    "        super().__init__()\n",
    "        # Create an embedding object. Be careful to padding - you need to increase the vocabulary size by one !\n",
    "        # Look into the arguments of the nn.Embedding class\n",
    "        self.embeddings = nn.Embedding(vocabulary_size,embedding_dim,padding_idx=0)# To complete\n",
    "        # Create a linear layer that will transform the mean of the embeddings into a classification score\n",
    "        self.linear = nn.Linear(in_features=embedding_dim, out_features=1)# To complete\n",
    "        \n",
    "        # No need for sigmoid, it will be into the criterion ! \n",
    "        \n",
    "    def forward(self, inputs):\n",
    "        # Remember: the inpts are written as Batch_size * seq_length * embedding_dim\n",
    "        # First, take the mean of the embeddings of the document\n",
    "        x = torch.mean(self.embeddings(inputs), dim=1) # To complete\n",
    "        # Then make it go through the linear layer and remove the extra dimension with the method .squeeze()\n",
    "        o = self.linear(x).squeeze()# To complete\n",
    "        return o"
   ]
  },
  {
   "cell_type": "code",
   "execution_count": 238,
   "metadata": {
    "execution": {
     "iopub.execute_input": "2021-11-12T00:18:52.564373Z",
     "iopub.status.busy": "2021-11-12T00:18:52.563677Z",
     "iopub.status.idle": "2021-11-12T00:18:52.568036Z",
     "shell.execute_reply": "2021-11-12T00:18:52.567311Z",
     "shell.execute_reply.started": "2021-11-12T00:18:52.564336Z"
    },
    "id": "5VH2C2rE0FR_"
   },
   "outputs": [],
   "source": [
    "import torch.optim as optim"
   ]
  },
  {
   "cell_type": "code",
   "execution_count": 239,
   "metadata": {
    "id": "SBJulX-MBpga"
   },
   "outputs": [],
   "source": [
    "device = torch.device('cuda') if torch.cuda.is_available() else torch.device('cpu')"
   ]
  },
  {
   "cell_type": "code",
   "execution_count": 240,
   "metadata": {
    "id": "wZp4RDMW0LGX"
   },
   "outputs": [],
   "source": [
    "model = AveragingModel(300, len(training_word2idx))\n",
    "model.to(device)\n",
    "# Create an optimizer\n",
    "opt = optim.Adam(model.parameters(), lr=0.0025, betas=(0.9, 0.999))\n",
    "# The criterion is a binary cross entropy loss based on logits - meaning that the sigmoid is integrated into the criterion\n",
    "criterion = nn.BCEWithLogitsLoss()"
   ]
  },
  {
   "cell_type": "code",
   "execution_count": 241,
   "metadata": {
    "execution": {
     "iopub.execute_input": "2021-11-12T00:18:52.569714Z",
     "iopub.status.busy": "2021-11-12T00:18:52.569302Z",
     "iopub.status.idle": "2021-11-12T00:18:52.579711Z",
     "shell.execute_reply": "2021-11-12T00:18:52.578911Z",
     "shell.execute_reply.started": "2021-11-12T00:18:52.569679Z"
    },
    "id": "XXaGIY_p6mOP"
   },
   "outputs": [],
   "source": [
    "# Implement a training function, which will train the model with the corresponding optimizer and criterion,\n",
    "# with the appropriate dataloader, for one epoch.\n",
    "\n",
    "def train_epoch(model, opt, criterion, dataloader):\n",
    "    model.train()\n",
    "    losses = []\n",
    "    for i, (x, y) in enumerate(dataloader):\n",
    "        opt.zero_grad()\n",
    "        x=x.to(device)\n",
    "        y=y.to(device)\n",
    "        # (1) Forward\n",
    "        pred = model(x) # To complete\n",
    "        # (2) Compute the loss \n",
    "        loss = criterion(pred,y)# To complete\n",
    "        # (3) Compute gradients with the criterion\n",
    "        # To complete\n",
    "        loss.backward()\n",
    "        # (4) Update weights with the optimizer\n",
    "        # To complete       \n",
    "        opt.step()\n",
    "        losses.append(loss.item())\n",
    "        # Count the number of correct predictions in the batch - here, you'll need to use the sigmoid\n",
    "        num_corrects =  torch.sum((nn.Sigmoid()(pred)>0.5)==y)# To complete      \n",
    "        acc = 100.0 * num_corrects/len(y)\n",
    "        if (i%20 == 0):\n",
    "            print(\"Batch \" + str(i) + \" : training loss = \" + str(loss.item()) + \"; training acc = \" + str(acc.item()))\n",
    "    return losses"
   ]
  },
  {
   "cell_type": "code",
   "execution_count": 242,
   "metadata": {
    "execution": {
     "iopub.execute_input": "2021-11-12T00:18:52.581341Z",
     "iopub.status.busy": "2021-11-12T00:18:52.580908Z",
     "iopub.status.idle": "2021-11-12T00:18:52.592121Z",
     "shell.execute_reply": "2021-11-12T00:18:52.591270Z",
     "shell.execute_reply.started": "2021-11-12T00:18:52.581301Z"
    },
    "id": "hjwX1hLp6mOP"
   },
   "outputs": [],
   "source": [
    "# Same for the evaluation ! We don't need the optimizer here. \n",
    "def eval_model(model, criterion, evalloader):\n",
    "    model.eval()\n",
    "    total_epoch_loss = 0\n",
    "    total_epoch_acc = 0\n",
    "    with torch.no_grad():\n",
    "        for i, (x, y) in enumerate(evalloader):\n",
    "            y=y.to(device)\n",
    "            x=x.to(device)\n",
    "            pred = model(x)# To complete\n",
    "            loss = criterion(pred,y)# To complete\n",
    "            \n",
    "            num_corrects = torch.sum((nn.Sigmoid()(pred)>0.5)==y)# To complete\n",
    "            acc = 100.0 * num_corrects/len(y)\n",
    "            total_epoch_loss += loss.item()\n",
    "            total_epoch_acc += acc.item()\n",
    "\n",
    "    return total_epoch_loss/(i+1), total_epoch_acc/(i+1)"
   ]
  },
  {
   "cell_type": "code",
   "execution_count": 243,
   "metadata": {
    "execution": {
     "iopub.execute_input": "2021-11-12T00:18:52.593739Z",
     "iopub.status.busy": "2021-11-12T00:18:52.593409Z",
     "iopub.status.idle": "2021-11-12T00:18:52.604713Z",
     "shell.execute_reply": "2021-11-12T00:18:52.604004Z",
     "shell.execute_reply.started": "2021-11-12T00:18:52.593700Z"
    },
    "id": "-EPl4GG16mOP"
   },
   "outputs": [],
   "source": [
    "# A function which will help you execute experiments rapidly - with a early_stopping option when necessary. \n",
    "def experiment(model, opt, criterion, num_epochs = 5, early_stopping = True):\n",
    "    train_losses = []\n",
    "    if early_stopping: \n",
    "        best_valid_loss = 10. \n",
    "    print(\"Beginning training...\")\n",
    "    for e in range(num_epochs):\n",
    "        print(\"Epoch \" + str(e+1) + \":\")\n",
    "        train_losses += train_epoch(model, opt, criterion, training_dataloader)\n",
    "        valid_loss, valid_acc = eval_model(model, criterion, valid_dataloader)\n",
    "        print(\"Epoch \" + str(e+1) + \" : Validation loss = \" + str(valid_loss) + \"; Validation acc = \" + str(valid_acc))\n",
    "        if early_stopping:\n",
    "            if valid_loss < best_valid_loss:\n",
    "                best_valid_loss = valid_loss\n",
    "            else:\n",
    "                print(\"Early stopping.\")\n",
    "                break  \n",
    "    test_loss, test_acc = eval_model(model, criterion, test_dataloader)\n",
    "    print(\"Epoch \" + str(e+1) + \" : Test loss = \" + str(test_loss) + \"; Test acc = \" + str(test_acc))\n",
    "    return train_losses"
   ]
  },
  {
   "cell_type": "code",
   "execution_count": 244,
   "metadata": {
    "colab": {
     "base_uri": "https://localhost:8080/"
    },
    "id": "UZvgnfo10Z1i",
    "outputId": "8c88c14a-dec1-4683-c26d-039c937afb7c"
   },
   "outputs": [
    {
     "name": "stdout",
     "output_type": "stream",
     "text": [
      "Beginning training...\n",
      "Epoch 1:\n",
      "Batch 0 : training loss = 0.6904255151748657; training acc = 50.5\n",
      "Batch 20 : training loss = 0.6679921746253967; training acc = 68.0\n",
      "Batch 40 : training loss = 0.6649602651596069; training acc = 60.5\n",
      "Batch 60 : training loss = 0.6066854000091553; training acc = 74.0\n",
      "Batch 80 : training loss = 0.5973763465881348; training acc = 70.5\n",
      "Epoch 1 : Validation loss = 0.5700315321981907; Validation acc = 72.7\n",
      "Epoch 2:\n",
      "Batch 0 : training loss = 0.5443524718284607; training acc = 74.0\n",
      "Batch 20 : training loss = 0.4966314733028412; training acc = 80.0\n",
      "Batch 40 : training loss = 0.4745649993419647; training acc = 78.0\n",
      "Batch 60 : training loss = 0.5021677613258362; training acc = 75.5\n",
      "Batch 80 : training loss = 0.4436916708946228; training acc = 78.5\n",
      "Epoch 2 : Validation loss = 0.44135553561151025; Validation acc = 80.44\n",
      "Epoch 3:\n",
      "Batch 0 : training loss = 0.335907518863678; training acc = 89.0\n",
      "Batch 20 : training loss = 0.36093685030937195; training acc = 88.5\n",
      "Batch 40 : training loss = 0.3687017560005188; training acc = 85.0\n",
      "Batch 60 : training loss = 0.3909786641597748; training acc = 84.0\n",
      "Batch 80 : training loss = 0.3372969329357147; training acc = 86.0\n",
      "Epoch 3 : Validation loss = 0.39301876433193683; Validation acc = 82.46\n",
      "Epoch 4:\n",
      "Batch 0 : training loss = 0.27702823281288147; training acc = 89.0\n",
      "Batch 20 : training loss = 0.2723614275455475; training acc = 92.5\n",
      "Batch 40 : training loss = 0.23182393610477448; training acc = 93.5\n",
      "Batch 60 : training loss = 0.3026098608970642; training acc = 88.5\n",
      "Batch 80 : training loss = 0.3916102945804596; training acc = 87.0\n",
      "Epoch 4 : Validation loss = 0.3763827086240053; Validation acc = 83.32\n",
      "Epoch 5:\n",
      "Batch 0 : training loss = 0.25281915068626404; training acc = 93.0\n",
      "Batch 20 : training loss = 0.25093066692352295; training acc = 89.5\n",
      "Batch 40 : training loss = 0.22465120255947113; training acc = 92.0\n",
      "Batch 60 : training loss = 0.17435596883296967; training acc = 96.0\n",
      "Batch 80 : training loss = 0.22136133909225464; training acc = 89.5\n",
      "Epoch 5 : Validation loss = 0.37326655253767965; Validation acc = 83.64\n",
      "Epoch 5 : Test loss = 0.42991777634620665; Test acc = 80.472\n"
     ]
    }
   ],
   "source": [
    "train_losses = experiment(model, opt, criterion)"
   ]
  },
  {
   "cell_type": "code",
   "execution_count": 245,
   "metadata": {
    "colab": {
     "base_uri": "https://localhost:8080/",
     "height": 282
    },
    "id": "m-CIwDga0Z7q",
    "outputId": "7b833b0b-324c-4ef4-a51a-ad4522bf96ff"
   },
   "outputs": [
    {
     "data": {
      "text/plain": [
       "[<matplotlib.lines.Line2D at 0x7f2da9e32910>]"
      ]
     },
     "execution_count": 245,
     "metadata": {},
     "output_type": "execute_result"
    },
    {
     "data": {
      "image/png": "[encoded data removed]",
      "text/plain": [
       "<Figure size 432x288 with 1 Axes>"
      ]
     },
     "metadata": {
      "needs_background": "light"
     },
     "output_type": "display_data"
    }
   ],
   "source": [
    "import matplotlib.pyplot as plt\n",
    "plt.plot(train_losses)"
   ]
  },
  {
   "cell_type": "markdown",
   "metadata": {
    "id": "kp8d-0N7JPlR"
   },
   "source": [
    "### With Glove embeddings: \n",
    "\n",
    "Now, we would like to integrate pre-trained word embeddings into our model ! Let's use again the functions that we used in the previous TP:"
   ]
  },
  {
   "cell_type": "code",
   "execution_count": 246,
   "metadata": {
    "id": "RUa7xjDv0Z-0"
   },
   "outputs": [],
   "source": [
    "import gensim.downloader as api\n",
    "loaded_glove_model = api.load(\"glove-wiki-gigaword-300\")\n",
    "loaded_glove_embeddings = loaded_glove_model.vectors"
   ]
  },
  {
   "cell_type": "code",
   "execution_count": 247,
   "metadata": {
    "id": "unwB2-4r0aBg"
   },
   "outputs": [],
   "source": [
    "def get_glove_adapted_embeddings(glove_model, input_voc):\n",
    "    keys = {i: glove_model.vocab.get(w, None) for w, i in input_voc.items()}\n",
    "    index_dict = {i: key.index for i, key in keys.items() if key is not None}\n",
    "    embeddings = np.zeros((len(input_voc)+1,glove_model.vectors.shape[1]))\n",
    "    for i, ind in index_dict.items():\n",
    "        embeddings[i] = glove_model.vectors[ind]\n",
    "    return embeddings\n",
    "\n",
    "GloveEmbeddings = get_glove_adapted_embeddings(loaded_glove_model, training_word2idx)"
   ]
  },
  {
   "cell_type": "code",
   "execution_count": 248,
   "metadata": {
    "colab": {
     "base_uri": "https://localhost:8080/"
    },
    "id": "dhoS6NH20aEU",
    "outputId": "16fdbfc9-a823-40d4-eb08-a36ff0780cc9"
   },
   "outputs": [
    {
     "name": "stdout",
     "output_type": "stream",
     "text": [
      "(31700, 300)\n",
      "[0. 0. 0. 0. 0. 0. 0. 0. 0. 0. 0. 0. 0. 0. 0. 0. 0. 0. 0. 0. 0. 0. 0. 0.\n",
      " 0. 0. 0. 0. 0. 0. 0. 0. 0. 0. 0. 0. 0. 0. 0. 0. 0. 0. 0. 0. 0. 0. 0. 0.\n",
      " 0. 0. 0. 0. 0. 0. 0. 0. 0. 0. 0. 0. 0. 0. 0. 0. 0. 0. 0. 0. 0. 0. 0. 0.\n",
      " 0. 0. 0. 0. 0. 0. 0. 0. 0. 0. 0. 0. 0. 0. 0. 0. 0. 0. 0. 0. 0. 0. 0. 0.\n",
      " 0. 0. 0. 0. 0. 0. 0. 0. 0. 0. 0. 0. 0. 0. 0. 0. 0. 0. 0. 0. 0. 0. 0. 0.\n",
      " 0. 0. 0. 0. 0. 0. 0. 0. 0. 0. 0. 0. 0. 0. 0. 0. 0. 0. 0. 0. 0. 0. 0. 0.\n",
      " 0. 0. 0. 0. 0. 0. 0. 0. 0. 0. 0. 0. 0. 0. 0. 0. 0. 0. 0. 0. 0. 0. 0. 0.\n",
      " 0. 0. 0. 0. 0. 0. 0. 0. 0. 0. 0. 0. 0. 0. 0. 0. 0. 0. 0. 0. 0. 0. 0. 0.\n",
      " 0. 0. 0. 0. 0. 0. 0. 0. 0. 0. 0. 0. 0. 0. 0. 0. 0. 0. 0. 0. 0. 0. 0. 0.\n",
      " 0. 0. 0. 0. 0. 0. 0. 0. 0. 0. 0. 0. 0. 0. 0. 0. 0. 0. 0. 0. 0. 0. 0. 0.\n",
      " 0. 0. 0. 0. 0. 0. 0. 0. 0. 0. 0. 0. 0. 0. 0. 0. 0. 0. 0. 0. 0. 0. 0. 0.\n",
      " 0. 0. 0. 0. 0. 0. 0. 0. 0. 0. 0. 0. 0. 0. 0. 0. 0. 0. 0. 0. 0. 0. 0. 0.\n",
      " 0. 0. 0. 0. 0. 0. 0. 0. 0. 0. 0. 0.]\n"
     ]
    }
   ],
   "source": [
    "print(GloveEmbeddings.shape)\n",
    "# We should check that the \"padding\" vector is at zero\n",
    "print(GloveEmbeddings[0])"
   ]
  },
  {
   "cell_type": "markdown",
   "metadata": {
    "id": "SpkmUwA4LjT0"
   },
   "source": [
    "Here, implement a ```PretrainedAveragingModel``` very similar to the previous model, using the ```nn.Embedding``` method ```from_pretrained()``` to initialize the embeddings from a numpy array. Use the ```requires_grad_``` method to specify if the model must fine-tune the embeddings or not ! "
   ]
  },
  {
   "cell_type": "code",
   "execution_count": 249,
   "metadata": {
    "id": "aVh4fz39Lg5c"
   },
   "outputs": [],
   "source": [
    "class PretrainedAveragingModel(nn.Module):\n",
    "    # To complete\n",
    "    def __init__(self, embedding_dim, vocabulary_size, init_embe, fine_tune= True):\n",
    "        super().__init__()\n",
    "        self.embeddings = nn.Embedding.from_pretrained(init_embe)\n",
    "        self.embeddings.weight.requires_grad = fine_tune\n",
    "        self.linear = nn.Linear(in_features=embedding_dim, out_features=1)# To complete\n",
    "        \n",
    "    def forward(self, inputs):\n",
    "        x = torch.mean(self.embeddings(inputs), dim=1) # To complete\n",
    "        o = self.linear(x).squeeze()# To complete\n",
    "        return o"
   ]
  },
  {
   "cell_type": "markdown",
   "metadata": {
    "id": "rmQUbBVxLtwa"
   },
   "source": [
    "### Questions: \n",
    "- What are the results **with and without fine-tuning of embeddings imported from GloVe** ?\n",
    "- Make hypothesis based on your intuition and the class on how the size of the vocabulary (change the minimum frequency of words to be taken in the vocabular) will impact results, in the three cases (No pre-training, pre-training without fine-tuning, pretraining with fine-tuning).\n",
    "- Verify experiments and analyze your results !"
   ]
  },
  {
   "cell_type": "code",
   "execution_count": 250,
   "metadata": {
    "id": "xc6i1FXsLil8"
   },
   "outputs": [],
   "source": [
    "model_pre_trained = PretrainedAveragingModel(300, len(training_word2idx), torch.FloatTensor(GloveEmbeddings), True).to(device)\n",
    "opt_pre_trained = optim.Adam(model_pre_trained.parameters(), lr=0.0025, betas=(0.9, 0.999))"
   ]
  },
  {
   "cell_type": "code",
   "execution_count": 251,
   "metadata": {
    "colab": {
     "base_uri": "https://localhost:8080/"
    },
    "id": "kzgSTvT5LiqC",
    "outputId": "61d27dff-4b8e-4596-9312-a5f570c500cb"
   },
   "outputs": [
    {
     "name": "stdout",
     "output_type": "stream",
     "text": [
      "Beginning training...\n",
      "Epoch 1:\n",
      "Batch 0 : training loss = 0.6882206797599792; training acc = 56.5\n",
      "Batch 20 : training loss = 0.6620156764984131; training acc = 71.5\n",
      "Batch 40 : training loss = 0.6571018695831299; training acc = 59.5\n",
      "Batch 60 : training loss = 0.6002413630485535; training acc = 70.5\n",
      "Batch 80 : training loss = 0.5793164968490601; training acc = 70.0\n",
      "Epoch 1 : Validation loss = 0.5335593155026436; Validation acc = 76.26\n",
      "Epoch 2:\n",
      "Batch 0 : training loss = 0.5105928182601929; training acc = 80.5\n",
      "Batch 20 : training loss = 0.45356255769729614; training acc = 82.0\n",
      "Batch 40 : training loss = 0.42977964878082275; training acc = 84.0\n",
      "Batch 60 : training loss = 0.41027531027793884; training acc = 83.5\n",
      "Batch 80 : training loss = 0.3699724078178406; training acc = 86.0\n",
      "Epoch 2 : Validation loss = 0.40925380647182463; Validation acc = 82.44\n",
      "Epoch 3:\n",
      "Batch 0 : training loss = 0.3891748785972595; training acc = 84.5\n",
      "Batch 20 : training loss = 0.29464396834373474; training acc = 91.5\n",
      "Batch 40 : training loss = 0.3446636497974396; training acc = 86.5\n",
      "Batch 60 : training loss = 0.2954600155353546; training acc = 91.0\n",
      "Batch 80 : training loss = 0.3153248727321625; training acc = 87.0\n",
      "Epoch 3 : Validation loss = 0.3728462668508291; Validation acc = 83.58\n",
      "Epoch 4:\n",
      "Batch 0 : training loss = 0.31235063076019287; training acc = 88.5\n",
      "Batch 20 : training loss = 0.245823472738266; training acc = 92.0\n",
      "Batch 40 : training loss = 0.21683597564697266; training acc = 94.0\n",
      "Batch 60 : training loss = 0.24209365248680115; training acc = 91.5\n",
      "Batch 80 : training loss = 0.2291145920753479; training acc = 89.0\n",
      "Epoch 4 : Validation loss = 0.3637007553130388; Validation acc = 84.0\n",
      "Epoch 5:\n",
      "Batch 0 : training loss = 0.19478046894073486; training acc = 94.0\n",
      "Batch 20 : training loss = 0.1903388947248459; training acc = 95.0\n",
      "Batch 40 : training loss = 0.13907796144485474; training acc = 96.5\n",
      "Batch 60 : training loss = 0.24433660507202148; training acc = 90.5\n",
      "Batch 80 : training loss = 0.17727036774158478; training acc = 93.5\n",
      "Epoch 5 : Validation loss = 0.37146422438323495; Validation acc = 83.52\n",
      "Early stopping.\n",
      "Epoch 5 : Test loss = 0.43671154192090034; Test acc = 80.352\n"
     ]
    }
   ],
   "source": [
    "train_losses = experiment(model_pre_trained, opt_pre_trained, criterion)"
   ]
  },
  {
   "cell_type": "markdown",
   "metadata": {
    "id": "9nr-Eav1z2D0"
   },
   "source": [
    "**Answer:**\n",
    "\n",
    "\n",
    "* With fine tuning, we obtain a validation accuracy $\\approx$ $83.5$% and test accuracy $\\approx$ $80.3$. These results are very similar to the previous no pretrained model,whose emebedding layer was trained from scratch on our vocabulary. Without the fine tuning, we obtain worse results: a validation accuracy $\\approx$ $71.5$% and test accuracy $\\approx$ $70.5$%. Therefore, the metrics have dropped by about $10$%. This is quite expected since the pretraining dataset and our dataset are different, so fine tuning the embedding matrix will make the word representations more adapted to our corpus and our task.\n",
    "\n",
    "* We changed the parameter min_freq parameter in the \"TextClassificationDataset\" initialiser from $5$ to $2$. We noted that the size of the vocabulary decreased by almost $27.000$ from $31.700$ to $58.898$. However, the accuracy value on test for both no pretrained and pretrained with fine tuning  didn't change. The values obtained are around $80.4$. We deduce that increasing a lot the vocabulary size doesn't affect a lot the model performance since the included words are not very significant for the embedding training and thus does not affect the classification task.\n",
    "\n",
    "* If we compare the obtained results of the two pretrained models(no fine tuning) with min_freq=$5$ and min_freq=$2$, we see that the performance increases a little bit by a value of $0.2$ from $70.5$% for min_freq=$5$ to $70.7$% for min_freq=$2$. The accuracy value didn't change a lot since the fact that as we increase the vocabulary size and not pretrain the embeddings we got additional word representations which are not adapted to our dataset. So we don't expect a change in the results by this update.\n",
    "\n",
    "* We also tried to decrease the vocabulary size by setting min_freq to $15$. Consequently the vocabulary size dropped to the half (from $31.700$ to $15529$), the validation accuracy on both no pretrained and pretrained with finetuning slightly drops. This is expected since we are now taking the average over fewer words, consequently rising the risk of losing important words that used to highly contribute in the  final sentence embedding.\n",
    "\n"
   ]
  },
  {
   "cell_type": "markdown",
   "metadata": {
    "id": "KTl3gbSUMBLw"
   },
   "source": [
    "### LSTM Cells in pytorch"
   ]
  },
  {
   "cell_type": "code",
   "execution_count": 253,
   "metadata": {
    "colab": {
     "base_uri": "https://localhost:8080/"
    },
    "id": "8yaj6nLJMDR4",
    "outputId": "d77849a9-d3a0-49a0-d20d-3b42f0d73d04"
   },
   "outputs": [
    {
     "name": "stdout",
     "output_type": "stream",
     "text": [
      "tensor([[[-0.2851, -0.1296,  0.1031]],\n",
      "\n",
      "        [[-0.2076, -0.0500,  0.1870]],\n",
      "\n",
      "        [[-0.1842, -0.0914,  0.0721]],\n",
      "\n",
      "        [[-0.0628, -0.0032,  0.3034]],\n",
      "\n",
      "        [[-0.0677, -0.2310,  0.2463]]], grad_fn=<StackBackward0>)\n",
      "(tensor([[[-0.0677, -0.2310,  0.2463]]], grad_fn=<StackBackward0>), tensor([[[-0.1472, -0.3181,  0.3061]]], grad_fn=<StackBackward0>))\n"
     ]
    }
   ],
   "source": [
    "# Create a toy example of LSTM: \n",
    "lstm = nn.LSTM(3, 3)  # Input dim is 3, output dim is 3\n",
    "inputs = [torch.randn(1, 3) for _ in range(5)]  # make a sequence of length 5\n",
    "\n",
    "# LSTMs expect inputs having 3 dimensions:\n",
    "# - The first dimension is the temporal dimension, along which we (in our case) have the different words\n",
    "# - The second dimension is the batch dimension, along which we stack the independant batches\n",
    "# - The third dimension is the feature dimension, along which are the features of the vector representing the words\n",
    "\n",
    "# In our toy case, we have inputs and outputs containing 3 features (third dimension !)\n",
    "# We created a sequence of 5 different inputs (first dimension !)\n",
    "# We don't use batch (the second dimension will have one element)\n",
    "\n",
    "# We need an initial hidden state, of the right sizes for dimension 2/3, but with only one temporal element:\n",
    "# Here, it is:\n",
    "hidden = (torch.randn(1, 1, 3),\n",
    "          torch.randn(1, 1, 3))\n",
    "# Why do we create a tuple of two tensors ? Because we use LSTMs: remember that they use two sets of weights,\n",
    "# and two hidden states (Hidden state, and Cell state).\n",
    "# If you don't remember, read: https://colah.github.io/posts/2015-08-Understanding-LSTMs/\n",
    "# If we used a classic RNN, we would simply have:\n",
    "# hidden = torch.randn(1, 1, 3)\n",
    "\n",
    "# The naive way of applying a lstm to inputs is to apply it one step at a time, and loop through the sequence\n",
    "for i in inputs:\n",
    "    # After each step, hidden contains the hidden states (remember, it's a tuple of two states).\n",
    "    out, hidden = lstm(i.view(1, 1, -1), hidden)\n",
    "    \n",
    "# Alternatively, we can do the entire sequence all at once.\n",
    "# The first value returned by LSTM is all of the Hidden states throughout the sequence.\n",
    "# The second is just the most recent Hidden state and Cell state (you can compare the values)\n",
    "# The reason for this is that:\n",
    "# \"out\" will give you access to all hidden states in the sequence, for each temporal step\n",
    "# \"hidden\" will allow you to continue the sequence and backpropagate later, with another sequence\n",
    "inputs = torch.cat(inputs).view(len(inputs), 1, -1)\n",
    "hidden = (torch.randn(1, 1, 3), torch.randn(1, 1, 3))  # Re-initialize\n",
    "out, hidden = lstm(inputs, hidden)\n",
    "print(out)\n",
    "print(hidden)"
   ]
  },
  {
   "cell_type": "markdown",
   "metadata": {
    "id": "QxCCoIVwMEoX"
   },
   "source": [
    "### Creating our own LSTM Model\n",
    "\n",
    "We'll implement now a LSTM model, taking the same inputs and also outputing a score for the sentence."
   ]
  },
  {
   "cell_type": "code",
   "execution_count": 256,
   "metadata": {
    "id": "7obmINvlMGCB"
   },
   "outputs": [],
   "source": [
    "# Models are usually implemented as custom nn.Module subclass\n",
    "# We need to redefine the __init__ method, which creates the object\n",
    "# We also need to redefine the forward method, which transform the input into outputs\n",
    "from torch.autograd import Variable\n",
    "class LSTMModel(nn.Module):\n",
    "    def __init__(self, embedding_dim, vocabulary_size, hidden_dim, embeddings=None, fine_tuning=False):\n",
    "        # To complete     \n",
    "        #super(LSTMModel, self).__init__()\n",
    "        super().__init__()\n",
    "        self.hidden_dim=hidden_dim\n",
    "        if embeddings is not None:\n",
    "            self.word_embeddings=embeddings\n",
    "            self.embeddings.weight.requires_grad=fine_tuning\n",
    "        else:\n",
    "            self.embeddings = nn.Embedding(embedding_dim=embedding_dim,num_embeddings=vocabulary_size,padding_idx=0) \n",
    "        self.lstm = nn.LSTM(input_size=embedding_dim, hidden_size=hidden_dim,batch_first=True)\n",
    "        self.Linear = nn.Linear(in_features=hidden_dim,out_features=1)\n",
    "\n",
    "    def forward(self, inputs):\n",
    "        # To complete \n",
    "        embds=self.embeddings(inputs)\n",
    "        _, (h,c) = self.lstm(embds)    \n",
    "        #We retrieve the output of the last temporal step\n",
    "        out=self.Linear(h).squeeze()\n",
    "\n",
    "        return out"
   ]
  },
  {
   "cell_type": "markdown",
   "metadata": {
    "id": "55yoCnZCMMzh"
   },
   "source": [
    "### Questions: \n",
    "- What do you see with a simple application of LSTM models ? List the possible reasons for that result (these could be linked to the data, the way it is pre-processed, the architecture, and the training procedure). "
   ]
  },
  {
   "cell_type": "code",
   "execution_count": 257,
   "metadata": {
    "id": "NeihrVgpMILu"
   },
   "outputs": [],
   "source": [
    "recurrent_model = LSTMModel(300, len(training_word2idx), 100).to(device)\n",
    "opt_recurrent = optim.Adam(recurrent_model.parameters(), lr=0.0025, betas=(0.9, 0.999))"
   ]
  },
  {
   "cell_type": "code",
   "execution_count": 258,
   "metadata": {
    "colab": {
     "base_uri": "https://localhost:8080/"
    },
    "id": "IS6apFUyMTdE",
    "outputId": "c87c52c6-7ea8-458d-cb9c-1d550016fa78"
   },
   "outputs": [
    {
     "name": "stdout",
     "output_type": "stream",
     "text": [
      "Beginning training...\n",
      "Epoch 1:\n",
      "Batch 0 : training loss = 0.695522665977478; training acc = 49.0\n",
      "Batch 20 : training loss = 0.6884427666664124; training acc = 56.5\n",
      "Batch 40 : training loss = 0.6938346028327942; training acc = 53.0\n",
      "Batch 60 : training loss = 0.6891558170318604; training acc = 53.5\n",
      "Batch 80 : training loss = 0.6515561938285828; training acc = 65.5\n",
      "Epoch 1 : Validation loss = 0.6958080175518989; Validation acc = 57.52\n",
      "Epoch 2:\n",
      "Batch 0 : training loss = 0.6642799377441406; training acc = 60.5\n",
      "Batch 20 : training loss = 0.6662391424179077; training acc = 62.5\n",
      "Batch 40 : training loss = 0.61566561460495; training acc = 70.5\n",
      "Batch 60 : training loss = 0.6061228513717651; training acc = 67.0\n",
      "Batch 80 : training loss = 0.6457982659339905; training acc = 70.5\n",
      "Epoch 2 : Validation loss = 0.6199266497790813; Validation acc = 67.54\n",
      "Epoch 3:\n",
      "Batch 0 : training loss = 0.5493161082267761; training acc = 72.5\n",
      "Batch 20 : training loss = 0.5282003879547119; training acc = 76.5\n",
      "Batch 40 : training loss = 0.42360636591911316; training acc = 80.0\n",
      "Batch 60 : training loss = 0.4826759994029999; training acc = 77.0\n",
      "Batch 80 : training loss = 0.4508455991744995; training acc = 77.0\n",
      "Epoch 3 : Validation loss = 0.5458326996862888; Validation acc = 75.8\n",
      "Epoch 4:\n",
      "Batch 0 : training loss = 0.29364538192749023; training acc = 88.0\n",
      "Batch 20 : training loss = 0.34757769107818604; training acc = 85.0\n",
      "Batch 40 : training loss = 0.3199123740196228; training acc = 89.5\n",
      "Batch 60 : training loss = 0.3106983006000519; training acc = 86.5\n",
      "Batch 80 : training loss = 0.31366488337516785; training acc = 86.0\n",
      "Epoch 4 : Validation loss = 0.5464990791678429; Validation acc = 78.24\n",
      "Early stopping.\n",
      "Epoch 4 : Test loss = 0.603584344483912; Test acc = 75.336\n"
     ]
    }
   ],
   "source": [
    "train_losses = experiment(recurrent_model, opt_recurrent, criterion,num_epochs = 5)"
   ]
  },
  {
   "cell_type": "markdown",
   "metadata": {
    "id": "S4kfwFMfrgUc"
   },
   "source": [
    "**Answer:**\n",
    "We notice that our LSTM model gives worse results that the two previous averging models. This can be due to the follwing reasons:\n",
    "\n",
    "* **Exploding gradient**: Although LSTM allows to reduce the problem of vanishing gradient through time(compared to vanilla RNN),  exploding gradient still occurs with LSTM and could be reduced using gradient clipping.\n",
    "Our LSTM model might have suffered from this problem during the training, since we see some sort of instabilities: the model loss and accuracy sometimes change brutely from step to step. \n",
    "\n",
    "* **Information Bottleneck**: The role of the LSTM in our recurrent model is to go through all the sentence word by word, and give at the end of the sequence a context vector that encodes all the semantics contained in the input text. This vector will be later passed to the dense layer to ouput classification scores. However, as the length of the sentence increases, the more difficult it gets for the model to capture the information in this vector. Consequently, its performance decreases with long sentences as it tends to forget parts of it(especially the beginning), the hidden vector encouters what we call information bottleneck.\n",
    "Attention mechanism was invented to solve this kind of problem, which we will explore in the following section using a pretrained BERT model. However, we can try to decrease the max sequence length during the preprocessing or tune the hidden dimension hyperparameter to try to get better results.\n"
   ]
  },
  {
   "cell_type": "markdown",
   "metadata": {
    "id": "RsPQtHgBRiVl"
   },
   "source": [
    "# Fine-tuning a Bert model\n",
    "\n",
    "Fine-tune the lightest BERT model available on IMDB data and compare it with previous results ! You should simply follow the tutorial and slightly adapt it to our way of obtaining the data:\n",
    "https://huggingface.co/transformers/custom_datasets.html#seq-imdb"
   ]
  },
  {
   "cell_type": "code",
   "execution_count": null,
   "metadata": {
    "colab": {
     "base_uri": "https://localhost:8080/"
    },
    "execution": {
     "iopub.execute_input": "2021-11-12T00:18:52.606721Z",
     "iopub.status.busy": "2021-11-12T00:18:52.606394Z",
     "iopub.status.idle": "2021-11-12T00:19:00.058542Z",
     "shell.execute_reply": "2021-11-12T00:19:00.057671Z",
     "shell.execute_reply.started": "2021-11-12T00:18:52.606680Z"
    },
    "id": "TNG_DFckXKu5",
    "outputId": "553eeaea-0fe2-42cc-d728-50cfd5af8bd8"
   },
   "outputs": [
    {
     "name": "stdout",
     "output_type": "stream",
     "text": [
      "Collecting transformers\n",
      "  Downloading transformers-4.12.3-py3-none-any.whl (3.1 MB)\n",
      "\u001b[K     |████████████████████████████████| 3.1 MB 34.5 MB/s \n",
      "\u001b[?25hRequirement already satisfied: requests in /usr/local/lib/python3.7/dist-packages (from transformers) (2.23.0)\n",
      "Requirement already satisfied: numpy>=1.17 in /usr/local/lib/python3.7/dist-packages (from transformers) (1.19.5)\n",
      "Collecting huggingface-hub<1.0,>=0.1.0\n",
      "  Downloading huggingface_hub-0.1.2-py3-none-any.whl (59 kB)\n",
      "\u001b[K     |████████████████████████████████| 59 kB 7.0 MB/s \n",
      "\u001b[?25hRequirement already satisfied: filelock in /usr/local/lib/python3.7/dist-packages (from transformers) (3.3.2)\n",
      "Collecting pyyaml>=5.1\n",
      "  Downloading PyYAML-6.0-cp37-cp37m-manylinux_2_5_x86_64.manylinux1_x86_64.manylinux_2_12_x86_64.manylinux2010_x86_64.whl (596 kB)\n",
      "\u001b[K     |████████████████████████████████| 596 kB 46.1 MB/s \n",
      "\u001b[?25hRequirement already satisfied: regex!=2019.12.17 in /usr/local/lib/python3.7/dist-packages (from transformers) (2019.12.20)\n",
      "Requirement already satisfied: packaging>=20.0 in /usr/local/lib/python3.7/dist-packages (from transformers) (21.2)\n",
      "Collecting tokenizers<0.11,>=0.10.1\n",
      "  Downloading tokenizers-0.10.3-cp37-cp37m-manylinux_2_5_x86_64.manylinux1_x86_64.manylinux_2_12_x86_64.manylinux2010_x86_64.whl (3.3 MB)\n",
      "\u001b[K     |████████████████████████████████| 3.3 MB 39.8 MB/s \n",
      "\u001b[?25hCollecting sacremoses\n",
      "  Downloading sacremoses-0.0.46-py3-none-any.whl (895 kB)\n",
      "\u001b[K     |████████████████████████████████| 895 kB 50.9 MB/s \n",
      "\u001b[?25hRequirement already satisfied: tqdm>=4.27 in /usr/local/lib/python3.7/dist-packages (from transformers) (4.62.3)\n",
      "Requirement already satisfied: importlib-metadata in /usr/local/lib/python3.7/dist-packages (from transformers) (4.8.2)\n",
      "Requirement already satisfied: typing-extensions>=3.7.4.3 in /usr/local/lib/python3.7/dist-packages (from huggingface-hub<1.0,>=0.1.0->transformers) (3.10.0.2)\n",
      "Requirement already satisfied: pyparsing<3,>=2.0.2 in /usr/local/lib/python3.7/dist-packages (from packaging>=20.0->transformers) (2.4.7)\n",
      "Requirement already satisfied: zipp>=0.5 in /usr/local/lib/python3.7/dist-packages (from importlib-metadata->transformers) (3.6.0)\n",
      "Requirement already satisfied: certifi>=2017.4.17 in /usr/local/lib/python3.7/dist-packages (from requests->transformers) (2021.10.8)\n",
      "Requirement already satisfied: urllib3!=1.25.0,!=1.25.1,<1.26,>=1.21.1 in /usr/local/lib/python3.7/dist-packages (from requests->transformers) (1.24.3)\n",
      "Requirement already satisfied: idna<3,>=2.5 in /usr/local/lib/python3.7/dist-packages (from requests->transformers) (2.10)\n",
      "Requirement already satisfied: chardet<4,>=3.0.2 in /usr/local/lib/python3.7/dist-packages (from requests->transformers) (3.0.4)\n",
      "Requirement already satisfied: six in /usr/local/lib/python3.7/dist-packages (from sacremoses->transformers) (1.15.0)\n",
      "Requirement already satisfied: joblib in /usr/local/lib/python3.7/dist-packages (from sacremoses->transformers) (1.1.0)\n",
      "Requirement already satisfied: click in /usr/local/lib/python3.7/dist-packages (from sacremoses->transformers) (7.1.2)\n",
      "Installing collected packages: pyyaml, tokenizers, sacremoses, huggingface-hub, transformers\n",
      "  Attempting uninstall: pyyaml\n",
      "    Found existing installation: PyYAML 3.13\n",
      "    Uninstalling PyYAML-3.13:\n",
      "      Successfully uninstalled PyYAML-3.13\n",
      "Successfully installed huggingface-hub-0.1.2 pyyaml-6.0 sacremoses-0.0.46 tokenizers-0.10.3 transformers-4.12.3\n"
     ]
    }
   ],
   "source": [
    "!pip install transformers\n",
    "import transformers"
   ]
  },
  {
   "cell_type": "code",
   "execution_count": 259,
   "metadata": {
    "execution": {
     "iopub.execute_input": "2021-11-12T00:19:00.062266Z",
     "iopub.status.busy": "2021-11-12T00:19:00.062031Z",
     "iopub.status.idle": "2021-11-12T00:19:00.953362Z",
     "shell.execute_reply": "2021-11-12T00:19:00.952543Z",
     "shell.execute_reply.started": "2021-11-12T00:19:00.062234Z"
    },
    "id": "gatlD4VTYDTZ"
   },
   "outputs": [],
   "source": [
    "from transformers import DistilBertTokenizerFast\n",
    "tokenizer = DistilBertTokenizerFast.from_pretrained('distilbert-base-uncased')"
   ]
  },
  {
   "cell_type": "code",
   "execution_count": 260,
   "metadata": {
    "execution": {
     "iopub.execute_input": "2021-11-12T01:23:04.800064Z",
     "iopub.status.busy": "2021-11-12T01:23:04.799282Z",
     "iopub.status.idle": "2021-11-12T01:23:25.305618Z",
     "shell.execute_reply": "2021-11-12T01:23:25.304835Z",
     "shell.execute_reply.started": "2021-11-12T01:23:04.800022Z"
    },
    "id": "uhMW0_1h6mOS"
   },
   "outputs": [],
   "source": [
    "train_encodings = tokenizer(train_texts_splt, truncation=True, padding=True)\n",
    "val_encodings = tokenizer(val_texts, truncation=True, padding=True)\n",
    "test_encodings = tokenizer(test_texts, truncation=True, padding=True)"
   ]
  },
  {
   "cell_type": "code",
   "execution_count": 261,
   "metadata": {
    "execution": {
     "iopub.execute_input": "2021-11-12T01:23:25.307299Z",
     "iopub.status.busy": "2021-11-12T01:23:25.307049Z",
     "iopub.status.idle": "2021-11-12T01:23:25.313517Z",
     "shell.execute_reply": "2021-11-12T01:23:25.312846Z",
     "shell.execute_reply.started": "2021-11-12T01:23:25.307266Z"
    },
    "id": "DBkmjrdP6mOS"
   },
   "outputs": [],
   "source": [
    "class IMDbDataset(torch.utils.data.Dataset):\n",
    "    def __init__(self, encodings, labels):\n",
    "        self.encodings = encodings\n",
    "        self.labels = labels\n",
    "\n",
    "    def __getitem__(self, idx):\n",
    "        item = {key: torch.tensor(val[idx]) for key, val in self.encodings.items()}\n",
    "        item['labels'] = torch.tensor(self.labels[idx])\n",
    "        return item\n",
    "\n",
    "    def __len__(self):\n",
    "        return len(self.labels)\n",
    "\n",
    "train_dataset = IMDbDataset(train_encodings, train_labels_splt)\n",
    "val_dataset = IMDbDataset(val_encodings, val_labels)\n",
    "test_dataset = IMDbDataset(test_encodings, test_labels)"
   ]
  },
  {
   "cell_type": "code",
   "execution_count": 263,
   "metadata": {
    "id": "IV5vgTW6KkVz"
   },
   "outputs": [],
   "source": [
    "torch.cuda.empty_cache() "
   ]
  },
  {
   "cell_type": "code",
   "execution_count": null,
   "metadata": {
    "colab": {
     "base_uri": "https://localhost:8080/"
    },
    "execution": {
     "iopub.execute_input": "2021-11-12T01:24:32.973561Z",
     "iopub.status.busy": "2021-11-12T01:24:32.972997Z",
     "iopub.status.idle": "2021-11-12T01:29:29.932468Z",
     "shell.execute_reply": "2021-11-12T01:29:29.930861Z",
     "shell.execute_reply.started": "2021-11-12T01:24:32.973523Z"
    },
    "id": "NYZxdTcN6mOS",
    "outputId": "1ce06748-6055-447a-fd6a-0cd89e9cbddf"
   },
   "outputs": [
    {
     "name": "stderr",
     "output_type": "stream",
     "text": [
      "Some weights of the model checkpoint at distilbert-base-uncased were not used when initializing DistilBertForSequenceClassification: ['vocab_layer_norm.bias', 'vocab_transform.weight', 'vocab_projector.bias', 'vocab_projector.weight', 'vocab_transform.bias', 'vocab_layer_norm.weight']\n",
      "- This IS expected if you are initializing DistilBertForSequenceClassification from the checkpoint of a model trained on another task or with another architecture (e.g. initializing a BertForSequenceClassification model from a BertForPreTraining model).\n",
      "- This IS NOT expected if you are initializing DistilBertForSequenceClassification from the checkpoint of a model that you expect to be exactly identical (initializing a BertForSequenceClassification model from a BertForSequenceClassification model).\n",
      "Some weights of DistilBertForSequenceClassification were not initialized from the model checkpoint at distilbert-base-uncased and are newly initialized: ['pre_classifier.weight', 'classifier.weight', 'classifier.bias', 'pre_classifier.bias']\n",
      "You should probably TRAIN this model on a down-stream task to be able to use it for predictions and inference.\n"
     ]
    },
    {
     "name": "stdout",
     "output_type": "stream",
     "text": [
      "epoch===========>1\n"
     ]
    }
   ],
   "source": [
    "from transformers import DistilBertForSequenceClassification, AdamW\n",
    "\n",
    "model = DistilBertForSequenceClassification.from_pretrained('distilbert-base-uncased')\n",
    "model.to(device)\n",
    "model.train()\n",
    "\n",
    "train_loader = DataLoader(train_dataset, batch_size=16, shuffle=True)\n",
    "\n",
    "optim = AdamW(model.parameters(), lr=5e-5)\n",
    "# training loop\n",
    "for epoch in range(1):\n",
    "    print(f'epoch===========>{epoch+1}')\n",
    "    for i,batch in enumerate(train_loader):\n",
    "        optim.zero_grad()\n",
    "        input_ids = batch['input_ids'].to(device)\n",
    "        attention_mask = batch['attention_mask'].to(device)\n",
    "        labels = batch['labels'].to(device)\n",
    "\n",
    "        outputs = model(input_ids=input_ids, attention_mask=attention_mask, labels=labels)\n",
    "        logits,loss = outputs[1],outputs[0]\n",
    "\n",
    "        loss.backward()\n",
    "        optim.step()\n",
    "        \n",
    "        num_corrects =  torch.sum(torch.argmax(logits,axis=1)==labels)# To complete      \n",
    "        acc = 100.0 * num_corrects/len(labels)\n",
    "        if (i%250 == 0):\n",
    "            print(\"Batch \" + str(i) + \" : training loss = \" + str(loss.item()) + \"; training acc = \" + str(acc.item()))"
   ]
  },
  {
   "cell_type": "code",
   "execution_count": null,
   "metadata": {
    "id": "VVULqpT0SRUv"
   },
   "outputs": [],
   "source": [
    "def eval_model_bert(model, evalloader):\n",
    "    model.eval()\n",
    "    total_epoch_acc = 0\n",
    "    total_epoch_loss = 0\n",
    "    #evaluation loop\n",
    "    with torch.no_grad():\n",
    "\n",
    "      for i, batch in enumerate(evalloader):\n",
    "          input_ids = batch['input_ids'].to(device)\n",
    "          attention_mask = batch['attention_mask'].to(device)\n",
    "          labels = batch['labels'].to(device)\n",
    "          outputs = model(input_ids=input_ids,attention_mask=attention_mask,labels=labels) # To complete\n",
    "          logits,loss = outputs[1],outputs[0]\n",
    "          num_corrects = torch.sum(torch.argmax(logits,axis=1)==labels) # To complete\n",
    "          acc = 100.0 * num_corrects/len(labels)\n",
    "\n",
    "          total_epoch_acc += acc.item()\n",
    "          total_epoch_loss +=loss\n",
    "\n",
    "    return total_epoch_loss/(i+1), total_epoch_acc/(i+1)"
   ]
  },
  {
   "cell_type": "code",
   "execution_count": null,
   "metadata": {
    "id": "BqPHw4R_Spc-"
   },
   "outputs": [],
   "source": [
    "val_loader = DataLoader(val_dataset, batch_size=128)\n",
    "test_loader = DataLoader(test_dataset, batch_size=128)"
   ]
  },
  {
   "cell_type": "code",
   "execution_count": null,
   "metadata": {
    "id": "rzkWTB5RS-De"
   },
   "outputs": [],
   "source": [
    "total_loss_val,total_acc_val = eval_model_bert(model, val_loader)\n",
    "total_loss_test,total_acc_test = eval_model_bert(model, test_loader)\n",
    "print(f'accuracy ={total_acc_val/(i+1)}')\n",
    "print(f'loss ={total_loss_val/(i+1)}')\n",
    "print(f'accuracy ={total_acc_test/(i+1)}')\n",
    "print(f'loss ={total_loss_test/(i+1)}')"
   ]
  },
  {
   "cell_type": "markdown",
   "metadata": {
    "id": "kHVjhykFLjKa"
   },
   "source": [
    "We notice that the BERT model outperforms all the previous models.\n",
    "It has overcome the eventual problems we spoke about in the LSTM model such the Gradient exploding and especially the bottleneck problem by capturing the most import parts of sentences thanks to attention mechanism."
   ]
  },
  {
   "cell_type": "code",
   "execution_count": null,
   "metadata": {
    "id": "CoBrIkIALo6g"
   },
   "outputs": [],
   "source": []
  }
 ],
 "metadata": {
  "accelerator": "GPU",
  "colab": {
   "collapsed_sections": [],
   "name": "Feki_Fares_and_Issa_Mohamed.ipynb",
   "provenance": []
  },
  "kernelspec": {
   "display_name": "Python 3",
   "language": "python",
   "name": "python3"
  },
  "language_info": {
   "codemirror_mode": {
    "name": "ipython",
    "version": 3
   },
   "file_extension": ".py",
   "mimetype": "text/x-python",
   "name": "python",
   "nbconvert_exporter": "python",
   "pygments_lexer": "ipython3",
   "version": "3.8.8"
  }
 },
 "nbformat": 4,
 "nbformat_minor": 1
}
